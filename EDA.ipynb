{
 "cells": [
  {
   "cell_type": "code",
   "execution_count": 1,
   "id": "5887759c",
   "metadata": {},
   "outputs": [],
   "source": [
    "import pandas as pd"
   ]
  },
  {
   "cell_type": "code",
   "execution_count": 2,
   "id": "b2836094",
   "metadata": {},
   "outputs": [],
   "source": [
    "df = pd.read_csv('parsed_news.csv', sep=';')"
   ]
  },
  {
   "cell_type": "code",
   "execution_count": 3,
   "id": "10685370",
   "metadata": {},
   "outputs": [
    {
     "data": {
      "text/html": [
       "<div>\n",
       "<style scoped>\n",
       "    .dataframe tbody tr th:only-of-type {\n",
       "        vertical-align: middle;\n",
       "    }\n",
       "\n",
       "    .dataframe tbody tr th {\n",
       "        vertical-align: top;\n",
       "    }\n",
       "\n",
       "    .dataframe thead th {\n",
       "        text-align: right;\n",
       "    }\n",
       "</style>\n",
       "<table border=\"1\" class=\"dataframe\">\n",
       "  <thead>\n",
       "    <tr style=\"text-align: right;\">\n",
       "      <th></th>\n",
       "      <th>url</th>\n",
       "      <th>date and time</th>\n",
       "      <th>tag</th>\n",
       "      <th>title</th>\n",
       "      <th>text</th>\n",
       "    </tr>\n",
       "  </thead>\n",
       "  <tbody>\n",
       "    <tr>\n",
       "      <th>0</th>\n",
       "      <td>https://www.kommersant.ru/doc/973901</td>\n",
       "      <td>22.04.2004, 17:39</td>\n",
       "      <td>Мир</td>\n",
       "      <td>\\r\\n        Абашидзе упразднил МГБ Аджарии\\r\\n...</td>\n",
       "      <td>Глава Аджарии Аслан Абашидзе принял решение об...</td>\n",
       "    </tr>\n",
       "    <tr>\n",
       "      <th>1</th>\n",
       "      <td>https://www.kommersant.ru/doc/2200895</td>\n",
       "      <td>30.05.2013, 18:15</td>\n",
       "      <td>Общество</td>\n",
       "      <td>\\r\\n        РЖД будут продавать билеты через «...</td>\n",
       "      <td>С 1 июля Российские железные дороги начнут про...</td>\n",
       "    </tr>\n",
       "    <tr>\n",
       "      <th>2</th>\n",
       "      <td>https://www.kommersant.ru/doc/3859122</td>\n",
       "      <td>18.01.2019, 20:48</td>\n",
       "      <td>Финансы</td>\n",
       "      <td>\\r\\n                Объем операций в биткойнах...</td>\n",
       "      <td>Использование биткойнов для оплаты товаров и у...</td>\n",
       "    </tr>\n",
       "    <tr>\n",
       "      <th>3</th>\n",
       "      <td>https://www.kommersant.ru/doc/5347136</td>\n",
       "      <td>09.05.2022, 20:55</td>\n",
       "      <td>Смерть Елизаветы II</td>\n",
       "      <td>\\r\\n                Королева Елизавета II проп...</td>\n",
       "      <td>Королева Великобритании Елизавета II не будет ...</td>\n",
       "    </tr>\n",
       "    <tr>\n",
       "      <th>4</th>\n",
       "      <td>https://www.kommersant.ru/doc/1171617</td>\n",
       "      <td>17.05.2009, 19:39</td>\n",
       "      <td>Общество</td>\n",
       "      <td>\\r\\n        Япония и Великобритания сообщили о...</td>\n",
       "      <td>Число официально подтвержденных случаев зараже...</td>\n",
       "    </tr>\n",
       "    <tr>\n",
       "      <th>...</th>\n",
       "      <td>...</td>\n",
       "      <td>...</td>\n",
       "      <td>...</td>\n",
       "      <td>...</td>\n",
       "      <td>...</td>\n",
       "    </tr>\n",
       "    <tr>\n",
       "      <th>1460967</th>\n",
       "      <td>https://86.ru/text/relations/2023/11/19/729287...</td>\n",
       "      <td>NaN</td>\n",
       "      <td>[]</td>\n",
       "      <td>Львов охватит страсть, а Скорпионов — сомнения...</td>\n",
       "      <td>NaN</td>\n",
       "    </tr>\n",
       "    <tr>\n",
       "      <th>1460968</th>\n",
       "      <td>https://86.ru/text/gorod/2023/11/19/72930146/</td>\n",
       "      <td>2023.11.19</td>\n",
       "      <td>[]</td>\n",
       "      <td>Отписки женам военных, корь и ковид, помощь Ка...</td>\n",
       "      <td>NaN</td>\n",
       "    </tr>\n",
       "    <tr>\n",
       "      <th>1460969</th>\n",
       "      <td>https://ngs24.ru/text/criminal/2023/11/18/7292...</td>\n",
       "      <td>2023.11.18</td>\n",
       "      <td>[]</td>\n",
       "      <td>Друг 12-летнего школьника из Ачинска признался...</td>\n",
       "      <td>NaN</td>\n",
       "    </tr>\n",
       "    <tr>\n",
       "      <th>1460970</th>\n",
       "      <td>https://86.ru/text/entertainment/2023/11/19/72...</td>\n",
       "      <td>2023.11.19</td>\n",
       "      <td>[]</td>\n",
       "      <td>Наследство в миллиард: как дети Александра Гра...</td>\n",
       "      <td>NaN</td>\n",
       "    </tr>\n",
       "    <tr>\n",
       "      <th>1460971</th>\n",
       "      <td>https://14.ru/text/entertainment/2023/11/19/72...</td>\n",
       "      <td>2023.11.19</td>\n",
       "      <td>[]</td>\n",
       "      <td>Наследство в миллиард: как дети Александра Гра...</td>\n",
       "      <td>NaN</td>\n",
       "    </tr>\n",
       "  </tbody>\n",
       "</table>\n",
       "<p>1460972 rows × 5 columns</p>\n",
       "</div>"
      ],
      "text/plain": [
       "                                                       url      date and time  \\\n",
       "0                     https://www.kommersant.ru/doc/973901  22.04.2004, 17:39   \n",
       "1                    https://www.kommersant.ru/doc/2200895  30.05.2013, 18:15   \n",
       "2                    https://www.kommersant.ru/doc/3859122  18.01.2019, 20:48   \n",
       "3                    https://www.kommersant.ru/doc/5347136  09.05.2022, 20:55   \n",
       "4                    https://www.kommersant.ru/doc/1171617  17.05.2009, 19:39   \n",
       "...                                                    ...                ...   \n",
       "1460967  https://86.ru/text/relations/2023/11/19/729287...                NaN   \n",
       "1460968      https://86.ru/text/gorod/2023/11/19/72930146/         2023.11.19   \n",
       "1460969  https://ngs24.ru/text/criminal/2023/11/18/7292...         2023.11.18   \n",
       "1460970  https://86.ru/text/entertainment/2023/11/19/72...         2023.11.19   \n",
       "1460971  https://14.ru/text/entertainment/2023/11/19/72...         2023.11.19   \n",
       "\n",
       "                         tag  \\\n",
       "0                        Мир   \n",
       "1                   Общество   \n",
       "2                    Финансы   \n",
       "3        Смерть Елизаветы II   \n",
       "4                   Общество   \n",
       "...                      ...   \n",
       "1460967                   []   \n",
       "1460968                   []   \n",
       "1460969                   []   \n",
       "1460970                   []   \n",
       "1460971                   []   \n",
       "\n",
       "                                                     title  \\\n",
       "0        \\r\\n        Абашидзе упразднил МГБ Аджарии\\r\\n...   \n",
       "1        \\r\\n        РЖД будут продавать билеты через «...   \n",
       "2        \\r\\n                Объем операций в биткойнах...   \n",
       "3        \\r\\n                Королева Елизавета II проп...   \n",
       "4        \\r\\n        Япония и Великобритания сообщили о...   \n",
       "...                                                    ...   \n",
       "1460967  Львов охватит страсть, а Скорпионов — сомнения...   \n",
       "1460968  Отписки женам военных, корь и ковид, помощь Ка...   \n",
       "1460969  Друг 12-летнего школьника из Ачинска признался...   \n",
       "1460970  Наследство в миллиард: как дети Александра Гра...   \n",
       "1460971  Наследство в миллиард: как дети Александра Гра...   \n",
       "\n",
       "                                                      text  \n",
       "0        Глава Аджарии Аслан Абашидзе принял решение об...  \n",
       "1        С 1 июля Российские железные дороги начнут про...  \n",
       "2        Использование биткойнов для оплаты товаров и у...  \n",
       "3        Королева Великобритании Елизавета II не будет ...  \n",
       "4        Число официально подтвержденных случаев зараже...  \n",
       "...                                                    ...  \n",
       "1460967                                                NaN  \n",
       "1460968                                                NaN  \n",
       "1460969                                                NaN  \n",
       "1460970                                                NaN  \n",
       "1460971                                                NaN  \n",
       "\n",
       "[1460972 rows x 5 columns]"
      ]
     },
     "execution_count": 3,
     "metadata": {},
     "output_type": "execute_result"
    }
   ],
   "source": [
    "df"
   ]
  },
  {
   "cell_type": "code",
   "execution_count": 4,
   "id": "f20a6185",
   "metadata": {},
   "outputs": [
    {
     "data": {
      "text/plain": [
       "(1460972, 5)"
      ]
     },
     "execution_count": 4,
     "metadata": {},
     "output_type": "execute_result"
    }
   ],
   "source": [
    "df.shape"
   ]
  },
  {
   "cell_type": "code",
   "execution_count": 5,
   "id": "8a3d0b04",
   "metadata": {},
   "outputs": [
    {
     "data": {
      "text/plain": [
       "1024"
      ]
     },
     "execution_count": 5,
     "metadata": {},
     "output_type": "execute_result"
    }
   ],
   "source": [
    "df.duplicated().sum()"
   ]
  },
  {
   "cell_type": "code",
   "execution_count": 6,
   "id": "ddb1a5ec",
   "metadata": {},
   "outputs": [],
   "source": [
    "df = df.drop_duplicates()"
   ]
  },
  {
   "cell_type": "code",
   "execution_count": 7,
   "id": "fd4589ac",
   "metadata": {},
   "outputs": [
    {
     "data": {
      "text/plain": [
       "106409"
      ]
     },
     "execution_count": 7,
     "metadata": {},
     "output_type": "execute_result"
    }
   ],
   "source": [
    "len(df['tag'].unique())"
   ]
  },
  {
   "cell_type": "code",
   "execution_count": 8,
   "id": "b92813a2",
   "metadata": {},
   "outputs": [
    {
     "data": {
      "text/plain": [
       "url                1\n",
       "date and time    118\n",
       "tag              287\n",
       "title            148\n",
       "text             570\n",
       "dtype: int64"
      ]
     },
     "execution_count": 8,
     "metadata": {},
     "output_type": "execute_result"
    }
   ],
   "source": [
    "df.isnull().sum()"
   ]
  },
  {
   "cell_type": "code",
   "execution_count": 9,
   "id": "448e5f3f",
   "metadata": {},
   "outputs": [
    {
     "name": "stderr",
     "output_type": "stream",
     "text": [
      "/tmp/ipykernel_30081/1379821321.py:1: SettingWithCopyWarning: \n",
      "A value is trying to be set on a copy of a slice from a DataFrame\n",
      "\n",
      "See the caveats in the documentation: https://pandas.pydata.org/pandas-docs/stable/user_guide/indexing.html#returning-a-view-versus-a-copy\n",
      "  df.dropna(inplace=True)\n"
     ]
    }
   ],
   "source": [
    "df.dropna(inplace=True)"
   ]
  },
  {
   "cell_type": "code",
   "execution_count": 10,
   "id": "b1b53bac",
   "metadata": {},
   "outputs": [
    {
     "data": {
      "text/plain": [
       "url              0\n",
       "date and time    0\n",
       "tag              0\n",
       "title            0\n",
       "text             0\n",
       "dtype: int64"
      ]
     },
     "execution_count": 10,
     "metadata": {},
     "output_type": "execute_result"
    }
   ],
   "source": [
    "df.isnull().sum()"
   ]
  },
  {
   "cell_type": "code",
   "execution_count": 11,
   "id": "7ac19feb",
   "metadata": {},
   "outputs": [
    {
     "data": {
      "text/plain": [
       "(1459061, 5)"
      ]
     },
     "execution_count": 11,
     "metadata": {},
     "output_type": "execute_result"
    }
   ],
   "source": [
    "df.shape"
   ]
  },
  {
   "cell_type": "code",
   "execution_count": 12,
   "id": "93c531f2",
   "metadata": {},
   "outputs": [
    {
     "data": {
      "text/html": [
       "<div>\n",
       "<style scoped>\n",
       "    .dataframe tbody tr th:only-of-type {\n",
       "        vertical-align: middle;\n",
       "    }\n",
       "\n",
       "    .dataframe tbody tr th {\n",
       "        vertical-align: top;\n",
       "    }\n",
       "\n",
       "    .dataframe thead th {\n",
       "        text-align: right;\n",
       "    }\n",
       "</style>\n",
       "<table border=\"1\" class=\"dataframe\">\n",
       "  <thead>\n",
       "    <tr style=\"text-align: right;\">\n",
       "      <th></th>\n",
       "      <th>url</th>\n",
       "      <th>date and time</th>\n",
       "      <th>tag</th>\n",
       "      <th>title</th>\n",
       "      <th>text</th>\n",
       "    </tr>\n",
       "  </thead>\n",
       "  <tbody>\n",
       "    <tr>\n",
       "      <th>0</th>\n",
       "      <td>https://www.kommersant.ru/doc/973901</td>\n",
       "      <td>22.04.2004, 17:39</td>\n",
       "      <td>Мир</td>\n",
       "      <td>\\r\\n        Абашидзе упразднил МГБ Аджарии\\r\\n...</td>\n",
       "      <td>Глава Аджарии Аслан Абашидзе принял решение об...</td>\n",
       "    </tr>\n",
       "    <tr>\n",
       "      <th>1</th>\n",
       "      <td>https://www.kommersant.ru/doc/2200895</td>\n",
       "      <td>30.05.2013, 18:15</td>\n",
       "      <td>Общество</td>\n",
       "      <td>\\r\\n        РЖД будут продавать билеты через «...</td>\n",
       "      <td>С 1 июля Российские железные дороги начнут про...</td>\n",
       "    </tr>\n",
       "    <tr>\n",
       "      <th>2</th>\n",
       "      <td>https://www.kommersant.ru/doc/3859122</td>\n",
       "      <td>18.01.2019, 20:48</td>\n",
       "      <td>Финансы</td>\n",
       "      <td>\\r\\n                Объем операций в биткойнах...</td>\n",
       "      <td>Использование биткойнов для оплаты товаров и у...</td>\n",
       "    </tr>\n",
       "    <tr>\n",
       "      <th>3</th>\n",
       "      <td>https://www.kommersant.ru/doc/5347136</td>\n",
       "      <td>09.05.2022, 20:55</td>\n",
       "      <td>Смерть Елизаветы II</td>\n",
       "      <td>\\r\\n                Королева Елизавета II проп...</td>\n",
       "      <td>Королева Великобритании Елизавета II не будет ...</td>\n",
       "    </tr>\n",
       "    <tr>\n",
       "      <th>4</th>\n",
       "      <td>https://www.kommersant.ru/doc/1171617</td>\n",
       "      <td>17.05.2009, 19:39</td>\n",
       "      <td>Общество</td>\n",
       "      <td>\\r\\n        Япония и Великобритания сообщили о...</td>\n",
       "      <td>Число официально подтвержденных случаев зараже...</td>\n",
       "    </tr>\n",
       "    <tr>\n",
       "      <th>...</th>\n",
       "      <td>...</td>\n",
       "      <td>...</td>\n",
       "      <td>...</td>\n",
       "      <td>...</td>\n",
       "      <td>...</td>\n",
       "    </tr>\n",
       "    <tr>\n",
       "      <th>1460960</th>\n",
       "      <td>https://www.fontanka.ru/2023/11/18/72926396/</td>\n",
       "      <td>2023.11.18</td>\n",
       "      <td>[]</td>\n",
       "      <td>Даже круглый отличник не ответит правильно на ...</td>\n",
       "      <td>Если вы на уроках истории думали: «Ну и зачем ...</td>\n",
       "    </tr>\n",
       "    <tr>\n",
       "      <th>1460962</th>\n",
       "      <td>https://www.fontanka.ru/2023/11/18/72926309/</td>\n",
       "      <td>2023.11.18</td>\n",
       "      <td>[]</td>\n",
       "      <td>Скрутили пробег? Ученые открыли вещество, кото...</td>\n",
       "      <td>Все мы стремимся к долгой жизни, под этим поня...</td>\n",
       "    </tr>\n",
       "    <tr>\n",
       "      <th>1460963</th>\n",
       "      <td>https://www.fontanka.ru/2023/11/17/72923615/</td>\n",
       "      <td>2023.11.17</td>\n",
       "      <td>['Развлечения', 'Музыка', 'Тест', 'Песни', 'Юм...</td>\n",
       "      <td>Все неправильно слышали слова этих песен. А чт...</td>\n",
       "      <td>Очень много воспоминаний у нас с вами оставили...</td>\n",
       "    </tr>\n",
       "    <tr>\n",
       "      <th>1460964</th>\n",
       "      <td>https://www.fontanka.ru/2023/11/13/72891896/</td>\n",
       "      <td>2023.11.13</td>\n",
       "      <td>[]</td>\n",
       "      <td>Правда ли, что подсластители из газировки могу...</td>\n",
       "      <td>Вряд ли найдется человек, который никогда не с...</td>\n",
       "    </tr>\n",
       "    <tr>\n",
       "      <th>1460965</th>\n",
       "      <td>https://www.fontanka.ru/2023/11/12/72902537/</td>\n",
       "      <td>2023.11.12</td>\n",
       "      <td>['Тест']</td>\n",
       "      <td>Лишь те, кто вырос в СССР, ответят верно на вс...</td>\n",
       "      <td>Тем, кто не застал Советский Союз, приметы тог...</td>\n",
       "    </tr>\n",
       "  </tbody>\n",
       "</table>\n",
       "<p>1459061 rows × 5 columns</p>\n",
       "</div>"
      ],
      "text/plain": [
       "                                                  url      date and time  \\\n",
       "0                https://www.kommersant.ru/doc/973901  22.04.2004, 17:39   \n",
       "1               https://www.kommersant.ru/doc/2200895  30.05.2013, 18:15   \n",
       "2               https://www.kommersant.ru/doc/3859122  18.01.2019, 20:48   \n",
       "3               https://www.kommersant.ru/doc/5347136  09.05.2022, 20:55   \n",
       "4               https://www.kommersant.ru/doc/1171617  17.05.2009, 19:39   \n",
       "...                                               ...                ...   \n",
       "1460960  https://www.fontanka.ru/2023/11/18/72926396/         2023.11.18   \n",
       "1460962  https://www.fontanka.ru/2023/11/18/72926309/         2023.11.18   \n",
       "1460963  https://www.fontanka.ru/2023/11/17/72923615/         2023.11.17   \n",
       "1460964  https://www.fontanka.ru/2023/11/13/72891896/         2023.11.13   \n",
       "1460965  https://www.fontanka.ru/2023/11/12/72902537/         2023.11.12   \n",
       "\n",
       "                                                       tag  \\\n",
       "0                                                      Мир   \n",
       "1                                                 Общество   \n",
       "2                                                  Финансы   \n",
       "3                                      Смерть Елизаветы II   \n",
       "4                                                 Общество   \n",
       "...                                                    ...   \n",
       "1460960                                                 []   \n",
       "1460962                                                 []   \n",
       "1460963  ['Развлечения', 'Музыка', 'Тест', 'Песни', 'Юм...   \n",
       "1460964                                                 []   \n",
       "1460965                                           ['Тест']   \n",
       "\n",
       "                                                     title  \\\n",
       "0        \\r\\n        Абашидзе упразднил МГБ Аджарии\\r\\n...   \n",
       "1        \\r\\n        РЖД будут продавать билеты через «...   \n",
       "2        \\r\\n                Объем операций в биткойнах...   \n",
       "3        \\r\\n                Королева Елизавета II проп...   \n",
       "4        \\r\\n        Япония и Великобритания сообщили о...   \n",
       "...                                                    ...   \n",
       "1460960  Даже круглый отличник не ответит правильно на ...   \n",
       "1460962  Скрутили пробег? Ученые открыли вещество, кото...   \n",
       "1460963  Все неправильно слышали слова этих песен. А чт...   \n",
       "1460964  Правда ли, что подсластители из газировки могу...   \n",
       "1460965  Лишь те, кто вырос в СССР, ответят верно на вс...   \n",
       "\n",
       "                                                      text  \n",
       "0        Глава Аджарии Аслан Абашидзе принял решение об...  \n",
       "1        С 1 июля Российские железные дороги начнут про...  \n",
       "2        Использование биткойнов для оплаты товаров и у...  \n",
       "3        Королева Великобритании Елизавета II не будет ...  \n",
       "4        Число официально подтвержденных случаев зараже...  \n",
       "...                                                    ...  \n",
       "1460960  Если вы на уроках истории думали: «Ну и зачем ...  \n",
       "1460962  Все мы стремимся к долгой жизни, под этим поня...  \n",
       "1460963  Очень много воспоминаний у нас с вами оставили...  \n",
       "1460964  Вряд ли найдется человек, который никогда не с...  \n",
       "1460965  Тем, кто не застал Советский Союз, приметы тог...  \n",
       "\n",
       "[1459061 rows x 5 columns]"
      ]
     },
     "execution_count": 12,
     "metadata": {},
     "output_type": "execute_result"
    }
   ],
   "source": [
    "df"
   ]
  },
  {
   "cell_type": "code",
   "execution_count": 13,
   "id": "517eb34b",
   "metadata": {},
   "outputs": [
    {
     "data": {
      "text/plain": [
       "171310"
      ]
     },
     "execution_count": 13,
     "metadata": {},
     "output_type": "execute_result"
    }
   ],
   "source": [
    "df['tag'].value_counts().get('[]', 0)"
   ]
  },
  {
   "cell_type": "code",
   "execution_count": 14,
   "id": "1de4824f",
   "metadata": {},
   "outputs": [
    {
     "name": "stderr",
     "output_type": "stream",
     "text": [
      "/tmp/ipykernel_30081/445598222.py:1: SettingWithCopyWarning: \n",
      "A value is trying to be set on a copy of a slice from a DataFrame\n",
      "\n",
      "See the caveats in the documentation: https://pandas.pydata.org/pandas-docs/stable/user_guide/indexing.html#returning-a-view-versus-a-copy\n",
      "  df.drop(df[df['tag'] == '[]'].index, inplace=True)\n"
     ]
    }
   ],
   "source": [
    "df.drop(df[df['tag'] == '[]'].index, inplace=True)"
   ]
  },
  {
   "cell_type": "code",
   "execution_count": 15,
   "id": "1b01fa78",
   "metadata": {},
   "outputs": [
    {
     "data": {
      "text/plain": [
       "(1287751, 5)"
      ]
     },
     "execution_count": 15,
     "metadata": {},
     "output_type": "execute_result"
    }
   ],
   "source": [
    "df.shape"
   ]
  },
  {
   "cell_type": "code",
   "execution_count": 16,
   "id": "b1c71ecd",
   "metadata": {},
   "outputs": [
    {
     "data": {
      "text/html": [
       "<div>\n",
       "<style scoped>\n",
       "    .dataframe tbody tr th:only-of-type {\n",
       "        vertical-align: middle;\n",
       "    }\n",
       "\n",
       "    .dataframe tbody tr th {\n",
       "        vertical-align: top;\n",
       "    }\n",
       "\n",
       "    .dataframe thead th {\n",
       "        text-align: right;\n",
       "    }\n",
       "</style>\n",
       "<table border=\"1\" class=\"dataframe\">\n",
       "  <thead>\n",
       "    <tr style=\"text-align: right;\">\n",
       "      <th></th>\n",
       "      <th>url</th>\n",
       "      <th>date and time</th>\n",
       "      <th>tag</th>\n",
       "      <th>title</th>\n",
       "      <th>text</th>\n",
       "    </tr>\n",
       "  </thead>\n",
       "  <tbody>\n",
       "    <tr>\n",
       "      <th>0</th>\n",
       "      <td>https://www.kommersant.ru/doc/973901</td>\n",
       "      <td>22.04.2004, 17:39</td>\n",
       "      <td>Мир</td>\n",
       "      <td>\\r\\n        Абашидзе упразднил МГБ Аджарии\\r\\n...</td>\n",
       "      <td>Глава Аджарии Аслан Абашидзе принял решение об...</td>\n",
       "    </tr>\n",
       "    <tr>\n",
       "      <th>1</th>\n",
       "      <td>https://www.kommersant.ru/doc/2200895</td>\n",
       "      <td>30.05.2013, 18:15</td>\n",
       "      <td>Общество</td>\n",
       "      <td>\\r\\n        РЖД будут продавать билеты через «...</td>\n",
       "      <td>С 1 июля Российские железные дороги начнут про...</td>\n",
       "    </tr>\n",
       "    <tr>\n",
       "      <th>2</th>\n",
       "      <td>https://www.kommersant.ru/doc/3859122</td>\n",
       "      <td>18.01.2019, 20:48</td>\n",
       "      <td>Финансы</td>\n",
       "      <td>\\r\\n                Объем операций в биткойнах...</td>\n",
       "      <td>Использование биткойнов для оплаты товаров и у...</td>\n",
       "    </tr>\n",
       "    <tr>\n",
       "      <th>3</th>\n",
       "      <td>https://www.kommersant.ru/doc/5347136</td>\n",
       "      <td>09.05.2022, 20:55</td>\n",
       "      <td>Смерть Елизаветы II</td>\n",
       "      <td>\\r\\n                Королева Елизавета II проп...</td>\n",
       "      <td>Королева Великобритании Елизавета II не будет ...</td>\n",
       "    </tr>\n",
       "    <tr>\n",
       "      <th>4</th>\n",
       "      <td>https://www.kommersant.ru/doc/1171617</td>\n",
       "      <td>17.05.2009, 19:39</td>\n",
       "      <td>Общество</td>\n",
       "      <td>\\r\\n        Япония и Великобритания сообщили о...</td>\n",
       "      <td>Число официально подтвержденных случаев зараже...</td>\n",
       "    </tr>\n",
       "    <tr>\n",
       "      <th>...</th>\n",
       "      <td>...</td>\n",
       "      <td>...</td>\n",
       "      <td>...</td>\n",
       "      <td>...</td>\n",
       "      <td>...</td>\n",
       "    </tr>\n",
       "    <tr>\n",
       "      <th>1460934</th>\n",
       "      <td>https://www.fontanka.ru/2023/11/16/72922028/</td>\n",
       "      <td>2023.11.16</td>\n",
       "      <td>['Археологические находки', 'Петербург']</td>\n",
       "      <td>В Петропавловской крепости покажут археологиче...</td>\n",
       "      <td>На экспозиции вы увидите предметы, найденные в...</td>\n",
       "    </tr>\n",
       "    <tr>\n",
       "      <th>1460935</th>\n",
       "      <td>https://www.fontanka.ru/2023/11/16/72921512/</td>\n",
       "      <td>2023.11.16</td>\n",
       "      <td>['Блокада Ленинграда']</td>\n",
       "      <td>В Доме Матюшина откроют выставку, посвященную ...</td>\n",
       "      <td>Название проекта в Музее петербургского аванга...</td>\n",
       "    </tr>\n",
       "    <tr>\n",
       "      <th>1460936</th>\n",
       "      <td>https://www.fontanka.ru/2023/11/14/72914111/</td>\n",
       "      <td>2023.11.14</td>\n",
       "      <td>['Фотографии', 'РОСФОТО']</td>\n",
       "      <td>В «Росфото» покажут «телевизор XIX века» — ста...</td>\n",
       "      <td>Выставка с названием «Зачем нам два глаза?» ра...</td>\n",
       "    </tr>\n",
       "    <tr>\n",
       "      <th>1460963</th>\n",
       "      <td>https://www.fontanka.ru/2023/11/17/72923615/</td>\n",
       "      <td>2023.11.17</td>\n",
       "      <td>['Развлечения', 'Музыка', 'Тест', 'Песни', 'Юм...</td>\n",
       "      <td>Все неправильно слышали слова этих песен. А чт...</td>\n",
       "      <td>Очень много воспоминаний у нас с вами оставили...</td>\n",
       "    </tr>\n",
       "    <tr>\n",
       "      <th>1460965</th>\n",
       "      <td>https://www.fontanka.ru/2023/11/12/72902537/</td>\n",
       "      <td>2023.11.12</td>\n",
       "      <td>['Тест']</td>\n",
       "      <td>Лишь те, кто вырос в СССР, ответят верно на вс...</td>\n",
       "      <td>Тем, кто не застал Советский Союз, приметы тог...</td>\n",
       "    </tr>\n",
       "  </tbody>\n",
       "</table>\n",
       "<p>1287751 rows × 5 columns</p>\n",
       "</div>"
      ],
      "text/plain": [
       "                                                  url      date and time  \\\n",
       "0                https://www.kommersant.ru/doc/973901  22.04.2004, 17:39   \n",
       "1               https://www.kommersant.ru/doc/2200895  30.05.2013, 18:15   \n",
       "2               https://www.kommersant.ru/doc/3859122  18.01.2019, 20:48   \n",
       "3               https://www.kommersant.ru/doc/5347136  09.05.2022, 20:55   \n",
       "4               https://www.kommersant.ru/doc/1171617  17.05.2009, 19:39   \n",
       "...                                               ...                ...   \n",
       "1460934  https://www.fontanka.ru/2023/11/16/72922028/         2023.11.16   \n",
       "1460935  https://www.fontanka.ru/2023/11/16/72921512/         2023.11.16   \n",
       "1460936  https://www.fontanka.ru/2023/11/14/72914111/         2023.11.14   \n",
       "1460963  https://www.fontanka.ru/2023/11/17/72923615/         2023.11.17   \n",
       "1460965  https://www.fontanka.ru/2023/11/12/72902537/         2023.11.12   \n",
       "\n",
       "                                                       tag  \\\n",
       "0                                                      Мир   \n",
       "1                                                 Общество   \n",
       "2                                                  Финансы   \n",
       "3                                      Смерть Елизаветы II   \n",
       "4                                                 Общество   \n",
       "...                                                    ...   \n",
       "1460934           ['Археологические находки', 'Петербург']   \n",
       "1460935                             ['Блокада Ленинграда']   \n",
       "1460936                          ['Фотографии', 'РОСФОТО']   \n",
       "1460963  ['Развлечения', 'Музыка', 'Тест', 'Песни', 'Юм...   \n",
       "1460965                                           ['Тест']   \n",
       "\n",
       "                                                     title  \\\n",
       "0        \\r\\n        Абашидзе упразднил МГБ Аджарии\\r\\n...   \n",
       "1        \\r\\n        РЖД будут продавать билеты через «...   \n",
       "2        \\r\\n                Объем операций в биткойнах...   \n",
       "3        \\r\\n                Королева Елизавета II проп...   \n",
       "4        \\r\\n        Япония и Великобритания сообщили о...   \n",
       "...                                                    ...   \n",
       "1460934  В Петропавловской крепости покажут археологиче...   \n",
       "1460935  В Доме Матюшина откроют выставку, посвященную ...   \n",
       "1460936  В «Росфото» покажут «телевизор XIX века» — ста...   \n",
       "1460963  Все неправильно слышали слова этих песен. А чт...   \n",
       "1460965  Лишь те, кто вырос в СССР, ответят верно на вс...   \n",
       "\n",
       "                                                      text  \n",
       "0        Глава Аджарии Аслан Абашидзе принял решение об...  \n",
       "1        С 1 июля Российские железные дороги начнут про...  \n",
       "2        Использование биткойнов для оплаты товаров и у...  \n",
       "3        Королева Великобритании Елизавета II не будет ...  \n",
       "4        Число официально подтвержденных случаев зараже...  \n",
       "...                                                    ...  \n",
       "1460934  На экспозиции вы увидите предметы, найденные в...  \n",
       "1460935  Название проекта в Музее петербургского аванга...  \n",
       "1460936  Выставка с названием «Зачем нам два глаза?» ра...  \n",
       "1460963  Очень много воспоминаний у нас с вами оставили...  \n",
       "1460965  Тем, кто не застал Советский Союз, приметы тог...  \n",
       "\n",
       "[1287751 rows x 5 columns]"
      ]
     },
     "execution_count": 16,
     "metadata": {},
     "output_type": "execute_result"
    }
   ],
   "source": [
    "df"
   ]
  },
  {
   "cell_type": "code",
   "execution_count": 17,
   "id": "fcb7b9c0",
   "metadata": {
    "scrolled": true
   },
   "outputs": [
    {
     "name": "stderr",
     "output_type": "stream",
     "text": [
      "/tmp/ipykernel_30081/3347761853.py:1: SettingWithCopyWarning: \n",
      "A value is trying to be set on a copy of a slice from a DataFrame\n",
      "\n",
      "See the caveats in the documentation: https://pandas.pydata.org/pandas-docs/stable/user_guide/indexing.html#returning-a-view-versus-a-copy\n",
      "  df['title'].replace('\\n', '', regex=True, inplace=True)\n",
      "/tmp/ipykernel_30081/3347761853.py:2: SettingWithCopyWarning: \n",
      "A value is trying to be set on a copy of a slice from a DataFrame\n",
      "\n",
      "See the caveats in the documentation: https://pandas.pydata.org/pandas-docs/stable/user_guide/indexing.html#returning-a-view-versus-a-copy\n",
      "  df['title'].replace('\\r', '', regex=True, inplace=True)\n",
      "/tmp/ipykernel_30081/3347761853.py:4: SettingWithCopyWarning: \n",
      "A value is trying to be set on a copy of a slice from a DataFrame\n",
      "\n",
      "See the caveats in the documentation: https://pandas.pydata.org/pandas-docs/stable/user_guide/indexing.html#returning-a-view-versus-a-copy\n",
      "  df['text'].replace('\\n', '', regex=True, inplace=True)\n",
      "/tmp/ipykernel_30081/3347761853.py:5: SettingWithCopyWarning: \n",
      "A value is trying to be set on a copy of a slice from a DataFrame\n",
      "\n",
      "See the caveats in the documentation: https://pandas.pydata.org/pandas-docs/stable/user_guide/indexing.html#returning-a-view-versus-a-copy\n",
      "  df['text'].replace('\\r', '', regex=True, inplace=True)\n"
     ]
    }
   ],
   "source": [
    "df['title'].replace('\\n', '', regex=True, inplace=True)\n",
    "df['title'].replace('\\r', '', regex=True, inplace=True)\n",
    "\n",
    "df['text'].replace('\\n', '', regex=True, inplace=True)\n",
    "df['text'].replace('\\r', '', regex=True, inplace=True)"
   ]
  },
  {
   "cell_type": "code",
   "execution_count": 18,
   "id": "5ca483c1",
   "metadata": {},
   "outputs": [],
   "source": [
    "df.reset_index(drop=True, inplace=True)"
   ]
  },
  {
   "cell_type": "code",
   "execution_count": 19,
   "id": "96738bae",
   "metadata": {},
   "outputs": [
    {
     "data": {
      "text/html": [
       "<div>\n",
       "<style scoped>\n",
       "    .dataframe tbody tr th:only-of-type {\n",
       "        vertical-align: middle;\n",
       "    }\n",
       "\n",
       "    .dataframe tbody tr th {\n",
       "        vertical-align: top;\n",
       "    }\n",
       "\n",
       "    .dataframe thead th {\n",
       "        text-align: right;\n",
       "    }\n",
       "</style>\n",
       "<table border=\"1\" class=\"dataframe\">\n",
       "  <thead>\n",
       "    <tr style=\"text-align: right;\">\n",
       "      <th></th>\n",
       "      <th>url</th>\n",
       "      <th>date and time</th>\n",
       "      <th>tag</th>\n",
       "      <th>title</th>\n",
       "      <th>text</th>\n",
       "    </tr>\n",
       "  </thead>\n",
       "  <tbody>\n",
       "    <tr>\n",
       "      <th>0</th>\n",
       "      <td>https://www.kommersant.ru/doc/973901</td>\n",
       "      <td>22.04.2004, 17:39</td>\n",
       "      <td>Мир</td>\n",
       "      <td>Абашидзе упразднил МГБ Аджарии</td>\n",
       "      <td>Глава Аджарии Аслан Абашидзе принял решение об...</td>\n",
       "    </tr>\n",
       "    <tr>\n",
       "      <th>1</th>\n",
       "      <td>https://www.kommersant.ru/doc/2200895</td>\n",
       "      <td>30.05.2013, 18:15</td>\n",
       "      <td>Общество</td>\n",
       "      <td>РЖД будут продавать билеты через «Почт...</td>\n",
       "      <td>С 1 июля Российские железные дороги начнут про...</td>\n",
       "    </tr>\n",
       "    <tr>\n",
       "      <th>2</th>\n",
       "      <td>https://www.kommersant.ru/doc/3859122</td>\n",
       "      <td>18.01.2019, 20:48</td>\n",
       "      <td>Финансы</td>\n",
       "      <td>Объем операций в биткойнах в д...</td>\n",
       "      <td>Использование биткойнов для оплаты товаров и у...</td>\n",
       "    </tr>\n",
       "    <tr>\n",
       "      <th>3</th>\n",
       "      <td>https://www.kommersant.ru/doc/5347136</td>\n",
       "      <td>09.05.2022, 20:55</td>\n",
       "      <td>Смерть Елизаветы II</td>\n",
       "      <td>Королева Елизавета II пропусти...</td>\n",
       "      <td>Королева Великобритании Елизавета II не будет ...</td>\n",
       "    </tr>\n",
       "    <tr>\n",
       "      <th>4</th>\n",
       "      <td>https://www.kommersant.ru/doc/1171617</td>\n",
       "      <td>17.05.2009, 19:39</td>\n",
       "      <td>Общество</td>\n",
       "      <td>Япония и Великобритания сообщили о нов...</td>\n",
       "      <td>Число официально подтвержденных случаев зараже...</td>\n",
       "    </tr>\n",
       "    <tr>\n",
       "      <th>...</th>\n",
       "      <td>...</td>\n",
       "      <td>...</td>\n",
       "      <td>...</td>\n",
       "      <td>...</td>\n",
       "      <td>...</td>\n",
       "    </tr>\n",
       "    <tr>\n",
       "      <th>1287746</th>\n",
       "      <td>https://www.fontanka.ru/2023/11/16/72922028/</td>\n",
       "      <td>2023.11.16</td>\n",
       "      <td>['Археологические находки', 'Петербург']</td>\n",
       "      <td>В Петропавловской крепости покажут археологиче...</td>\n",
       "      <td>На экспозиции вы увидите предметы, найденные в...</td>\n",
       "    </tr>\n",
       "    <tr>\n",
       "      <th>1287747</th>\n",
       "      <td>https://www.fontanka.ru/2023/11/16/72921512/</td>\n",
       "      <td>2023.11.16</td>\n",
       "      <td>['Блокада Ленинграда']</td>\n",
       "      <td>В Доме Матюшина откроют выставку, посвященную ...</td>\n",
       "      <td>Название проекта в Музее петербургского аванга...</td>\n",
       "    </tr>\n",
       "    <tr>\n",
       "      <th>1287748</th>\n",
       "      <td>https://www.fontanka.ru/2023/11/14/72914111/</td>\n",
       "      <td>2023.11.14</td>\n",
       "      <td>['Фотографии', 'РОСФОТО']</td>\n",
       "      <td>В «Росфото» покажут «телевизор XIX века» — ста...</td>\n",
       "      <td>Выставка с названием «Зачем нам два глаза?» ра...</td>\n",
       "    </tr>\n",
       "    <tr>\n",
       "      <th>1287749</th>\n",
       "      <td>https://www.fontanka.ru/2023/11/17/72923615/</td>\n",
       "      <td>2023.11.17</td>\n",
       "      <td>['Развлечения', 'Музыка', 'Тест', 'Песни', 'Юм...</td>\n",
       "      <td>Все неправильно слышали слова этих песен. А чт...</td>\n",
       "      <td>Очень много воспоминаний у нас с вами оставили...</td>\n",
       "    </tr>\n",
       "    <tr>\n",
       "      <th>1287750</th>\n",
       "      <td>https://www.fontanka.ru/2023/11/12/72902537/</td>\n",
       "      <td>2023.11.12</td>\n",
       "      <td>['Тест']</td>\n",
       "      <td>Лишь те, кто вырос в СССР, ответят верно на вс...</td>\n",
       "      <td>Тем, кто не застал Советский Союз, приметы тог...</td>\n",
       "    </tr>\n",
       "  </tbody>\n",
       "</table>\n",
       "<p>1287751 rows × 5 columns</p>\n",
       "</div>"
      ],
      "text/plain": [
       "                                                  url      date and time  \\\n",
       "0                https://www.kommersant.ru/doc/973901  22.04.2004, 17:39   \n",
       "1               https://www.kommersant.ru/doc/2200895  30.05.2013, 18:15   \n",
       "2               https://www.kommersant.ru/doc/3859122  18.01.2019, 20:48   \n",
       "3               https://www.kommersant.ru/doc/5347136  09.05.2022, 20:55   \n",
       "4               https://www.kommersant.ru/doc/1171617  17.05.2009, 19:39   \n",
       "...                                               ...                ...   \n",
       "1287746  https://www.fontanka.ru/2023/11/16/72922028/         2023.11.16   \n",
       "1287747  https://www.fontanka.ru/2023/11/16/72921512/         2023.11.16   \n",
       "1287748  https://www.fontanka.ru/2023/11/14/72914111/         2023.11.14   \n",
       "1287749  https://www.fontanka.ru/2023/11/17/72923615/         2023.11.17   \n",
       "1287750  https://www.fontanka.ru/2023/11/12/72902537/         2023.11.12   \n",
       "\n",
       "                                                       tag  \\\n",
       "0                                                      Мир   \n",
       "1                                                 Общество   \n",
       "2                                                  Финансы   \n",
       "3                                      Смерть Елизаветы II   \n",
       "4                                                 Общество   \n",
       "...                                                    ...   \n",
       "1287746           ['Археологические находки', 'Петербург']   \n",
       "1287747                             ['Блокада Ленинграда']   \n",
       "1287748                          ['Фотографии', 'РОСФОТО']   \n",
       "1287749  ['Развлечения', 'Музыка', 'Тест', 'Песни', 'Юм...   \n",
       "1287750                                           ['Тест']   \n",
       "\n",
       "                                                     title  \\\n",
       "0                       Абашидзе упразднил МГБ Аджарии       \n",
       "1                РЖД будут продавать билеты через «Почт...   \n",
       "2                        Объем операций в биткойнах в д...   \n",
       "3                        Королева Елизавета II пропусти...   \n",
       "4                Япония и Великобритания сообщили о нов...   \n",
       "...                                                    ...   \n",
       "1287746  В Петропавловской крепости покажут археологиче...   \n",
       "1287747  В Доме Матюшина откроют выставку, посвященную ...   \n",
       "1287748  В «Росфото» покажут «телевизор XIX века» — ста...   \n",
       "1287749  Все неправильно слышали слова этих песен. А чт...   \n",
       "1287750  Лишь те, кто вырос в СССР, ответят верно на вс...   \n",
       "\n",
       "                                                      text  \n",
       "0        Глава Аджарии Аслан Абашидзе принял решение об...  \n",
       "1        С 1 июля Российские железные дороги начнут про...  \n",
       "2        Использование биткойнов для оплаты товаров и у...  \n",
       "3        Королева Великобритании Елизавета II не будет ...  \n",
       "4        Число официально подтвержденных случаев зараже...  \n",
       "...                                                    ...  \n",
       "1287746  На экспозиции вы увидите предметы, найденные в...  \n",
       "1287747  Название проекта в Музее петербургского аванга...  \n",
       "1287748  Выставка с названием «Зачем нам два глаза?» ра...  \n",
       "1287749  Очень много воспоминаний у нас с вами оставили...  \n",
       "1287750  Тем, кто не застал Советский Союз, приметы тог...  \n",
       "\n",
       "[1287751 rows x 5 columns]"
      ]
     },
     "execution_count": 19,
     "metadata": {},
     "output_type": "execute_result"
    }
   ],
   "source": [
    "df"
   ]
  },
  {
   "cell_type": "code",
   "execution_count": 20,
   "id": "65bf4209",
   "metadata": {},
   "outputs": [],
   "source": [
    "df.loc[4490]\n",
    "df.at[4490, 'date and time'] = '2011-02-21 12:00:00'"
   ]
  },
  {
   "cell_type": "code",
   "execution_count": 21,
   "id": "73510a96",
   "metadata": {},
   "outputs": [
    {
     "data": {
      "text/plain": [
       "url                          https://www.kommersant.ru/doc/1419569\n",
       "date and time                                    01.01.0001, 00:00\n",
       "tag                                             Лента новостей\\r\\n\n",
       "title                    В США на сталелитейном заводе прогреме...\n",
       "text             По меньшей мере 14 человек получили ранения пр...\n",
       "Name: 45575, dtype: object"
      ]
     },
     "execution_count": 21,
     "metadata": {},
     "output_type": "execute_result"
    }
   ],
   "source": [
    "df.loc[45575]"
   ]
  },
  {
   "cell_type": "code",
   "execution_count": 22,
   "id": "e08b2d60",
   "metadata": {},
   "outputs": [
    {
     "data": {
      "text/plain": [
       "4"
      ]
     },
     "execution_count": 22,
     "metadata": {},
     "output_type": "execute_result"
    }
   ],
   "source": [
    "df['date and time'].value_counts().get('01.01.0001, 00:00', 0)"
   ]
  },
  {
   "cell_type": "code",
   "execution_count": 23,
   "id": "a68cfc01",
   "metadata": {},
   "outputs": [
    {
     "name": "stderr",
     "output_type": "stream",
     "text": [
      "/tmp/ipykernel_30081/3287421046.py:1: SettingWithCopyWarning: \n",
      "A value is trying to be set on a copy of a slice from a DataFrame\n",
      "\n",
      "See the caveats in the documentation: https://pandas.pydata.org/pandas-docs/stable/user_guide/indexing.html#returning-a-view-versus-a-copy\n",
      "  df.drop(df[df['date and time'] == '01.01.0001, 00:00'].index, inplace=True)\n"
     ]
    }
   ],
   "source": [
    "df.drop(df[df['date and time'] == '01.01.0001, 00:00'].index, inplace=True)"
   ]
  },
  {
   "cell_type": "code",
   "execution_count": 24,
   "id": "03ae0e43",
   "metadata": {},
   "outputs": [],
   "source": [
    "from dateutil import parser"
   ]
  },
  {
   "cell_type": "code",
   "execution_count": 26,
   "id": "8a194a8a",
   "metadata": {
    "scrolled": true
   },
   "outputs": [
    {
     "name": "stderr",
     "output_type": "stream",
     "text": [
      "/tmp/ipykernel_30081/1166440544.py:1: SettingWithCopyWarning: \n",
      "A value is trying to be set on a copy of a slice from a DataFrame\n",
      "\n",
      "See the caveats in the documentation: https://pandas.pydata.org/pandas-docs/stable/user_guide/indexing.html#returning-a-view-versus-a-copy\n",
      "  df['date and time'].replace('января', '01', regex=True, inplace=True)\n",
      "/tmp/ipykernel_30081/1166440544.py:2: SettingWithCopyWarning: \n",
      "A value is trying to be set on a copy of a slice from a DataFrame\n",
      "\n",
      "See the caveats in the documentation: https://pandas.pydata.org/pandas-docs/stable/user_guide/indexing.html#returning-a-view-versus-a-copy\n",
      "  df['date and time'].replace('февраля', '02', regex=True, inplace=True)\n",
      "/tmp/ipykernel_30081/1166440544.py:3: SettingWithCopyWarning: \n",
      "A value is trying to be set on a copy of a slice from a DataFrame\n",
      "\n",
      "See the caveats in the documentation: https://pandas.pydata.org/pandas-docs/stable/user_guide/indexing.html#returning-a-view-versus-a-copy\n",
      "  df['date and time'].replace('марта', '03', regex=True, inplace=True)\n",
      "/tmp/ipykernel_30081/1166440544.py:4: SettingWithCopyWarning: \n",
      "A value is trying to be set on a copy of a slice from a DataFrame\n",
      "\n",
      "See the caveats in the documentation: https://pandas.pydata.org/pandas-docs/stable/user_guide/indexing.html#returning-a-view-versus-a-copy\n",
      "  df['date and time'].replace('апреля', '04', regex=True, inplace=True)\n",
      "/tmp/ipykernel_30081/1166440544.py:5: SettingWithCopyWarning: \n",
      "A value is trying to be set on a copy of a slice from a DataFrame\n",
      "\n",
      "See the caveats in the documentation: https://pandas.pydata.org/pandas-docs/stable/user_guide/indexing.html#returning-a-view-versus-a-copy\n",
      "  df['date and time'].replace('мая', '05', regex=True, inplace=True)\n",
      "/tmp/ipykernel_30081/1166440544.py:6: SettingWithCopyWarning: \n",
      "A value is trying to be set on a copy of a slice from a DataFrame\n",
      "\n",
      "See the caveats in the documentation: https://pandas.pydata.org/pandas-docs/stable/user_guide/indexing.html#returning-a-view-versus-a-copy\n",
      "  df['date and time'].replace('июня', '06', regex=True, inplace=True)\n",
      "/tmp/ipykernel_30081/1166440544.py:7: SettingWithCopyWarning: \n",
      "A value is trying to be set on a copy of a slice from a DataFrame\n",
      "\n",
      "See the caveats in the documentation: https://pandas.pydata.org/pandas-docs/stable/user_guide/indexing.html#returning-a-view-versus-a-copy\n",
      "  df['date and time'].replace('июля', '07', regex=True, inplace=True)\n",
      "/tmp/ipykernel_30081/1166440544.py:8: SettingWithCopyWarning: \n",
      "A value is trying to be set on a copy of a slice from a DataFrame\n",
      "\n",
      "See the caveats in the documentation: https://pandas.pydata.org/pandas-docs/stable/user_guide/indexing.html#returning-a-view-versus-a-copy\n",
      "  df['date and time'].replace('августа', '08', regex=True, inplace=True)\n",
      "/tmp/ipykernel_30081/1166440544.py:9: SettingWithCopyWarning: \n",
      "A value is trying to be set on a copy of a slice from a DataFrame\n",
      "\n",
      "See the caveats in the documentation: https://pandas.pydata.org/pandas-docs/stable/user_guide/indexing.html#returning-a-view-versus-a-copy\n",
      "  df['date and time'].replace('сентября', '09', regex=True, inplace=True)\n",
      "/tmp/ipykernel_30081/1166440544.py:10: SettingWithCopyWarning: \n",
      "A value is trying to be set on a copy of a slice from a DataFrame\n",
      "\n",
      "See the caveats in the documentation: https://pandas.pydata.org/pandas-docs/stable/user_guide/indexing.html#returning-a-view-versus-a-copy\n",
      "  df['date and time'].replace('октября', '10', regex=True, inplace=True)\n",
      "/tmp/ipykernel_30081/1166440544.py:11: SettingWithCopyWarning: \n",
      "A value is trying to be set on a copy of a slice from a DataFrame\n",
      "\n",
      "See the caveats in the documentation: https://pandas.pydata.org/pandas-docs/stable/user_guide/indexing.html#returning-a-view-versus-a-copy\n",
      "  df['date and time'].replace('ноября', '11', regex=True, inplace=True)\n",
      "/tmp/ipykernel_30081/1166440544.py:12: SettingWithCopyWarning: \n",
      "A value is trying to be set on a copy of a slice from a DataFrame\n",
      "\n",
      "See the caveats in the documentation: https://pandas.pydata.org/pandas-docs/stable/user_guide/indexing.html#returning-a-view-versus-a-copy\n",
      "  df['date and time'].replace('декабря', '12', regex=True, inplace=True)\n"
     ]
    }
   ],
   "source": [
    "df['date and time'].replace('января', '01', regex=True, inplace=True)\n",
    "df['date and time'].replace('февраля', '02', regex=True, inplace=True)\n",
    "df['date and time'].replace('марта', '03', regex=True, inplace=True)\n",
    "df['date and time'].replace('апреля', '04', regex=True, inplace=True)\n",
    "df['date and time'].replace('мая', '05', regex=True, inplace=True)\n",
    "df['date and time'].replace('июня', '06', regex=True, inplace=True)\n",
    "df['date and time'].replace('июля', '07', regex=True, inplace=True)\n",
    "df['date and time'].replace('августа', '08', regex=True, inplace=True)\n",
    "df['date and time'].replace('сентября', '09', regex=True, inplace=True)\n",
    "df['date and time'].replace('октября', '10', regex=True, inplace=True)\n",
    "df['date and time'].replace('ноября', '11', regex=True, inplace=True)\n",
    "df['date and time'].replace('декабря', '12', regex=True, inplace=True)"
   ]
  },
  {
   "cell_type": "code",
   "execution_count": 27,
   "id": "f34439af",
   "metadata": {},
   "outputs": [
    {
     "name": "stderr",
     "output_type": "stream",
     "text": [
      "/tmp/ipykernel_30081/1345393062.py:1: SettingWithCopyWarning: \n",
      "A value is trying to be set on a copy of a slice from a DataFrame.\n",
      "Try using .loc[row_indexer,col_indexer] = value instead\n",
      "\n",
      "See the caveats in the documentation: https://pandas.pydata.org/pandas-docs/stable/user_guide/indexing.html#returning-a-view-versus-a-copy\n",
      "  df['date and time'] = df['date and time'].apply(lambda x: parser.parse(x, fuzzy=True) if pd.notna(x) else x)\n"
     ]
    }
   ],
   "source": [
    "df['date and time'] = df['date and time'].apply(lambda x: parser.parse(x, fuzzy=True) if pd.notna(x) else x)"
   ]
  },
  {
   "cell_type": "code",
   "execution_count": 28,
   "id": "31d3124b",
   "metadata": {},
   "outputs": [
    {
     "data": {
      "text/html": [
       "<div>\n",
       "<style scoped>\n",
       "    .dataframe tbody tr th:only-of-type {\n",
       "        vertical-align: middle;\n",
       "    }\n",
       "\n",
       "    .dataframe tbody tr th {\n",
       "        vertical-align: top;\n",
       "    }\n",
       "\n",
       "    .dataframe thead th {\n",
       "        text-align: right;\n",
       "    }\n",
       "</style>\n",
       "<table border=\"1\" class=\"dataframe\">\n",
       "  <thead>\n",
       "    <tr style=\"text-align: right;\">\n",
       "      <th></th>\n",
       "      <th>url</th>\n",
       "      <th>date and time</th>\n",
       "      <th>tag</th>\n",
       "      <th>title</th>\n",
       "      <th>text</th>\n",
       "    </tr>\n",
       "  </thead>\n",
       "  <tbody>\n",
       "    <tr>\n",
       "      <th>0</th>\n",
       "      <td>https://www.kommersant.ru/doc/973901</td>\n",
       "      <td>2004-04-22 17:39:00</td>\n",
       "      <td>Мир</td>\n",
       "      <td>Абашидзе упразднил МГБ Аджарии</td>\n",
       "      <td>Глава Аджарии Аслан Абашидзе принял решение об...</td>\n",
       "    </tr>\n",
       "    <tr>\n",
       "      <th>1</th>\n",
       "      <td>https://www.kommersant.ru/doc/2200895</td>\n",
       "      <td>2013-05-30 18:15:00</td>\n",
       "      <td>Общество</td>\n",
       "      <td>РЖД будут продавать билеты через «Почт...</td>\n",
       "      <td>С 1 июля Российские железные дороги начнут про...</td>\n",
       "    </tr>\n",
       "    <tr>\n",
       "      <th>2</th>\n",
       "      <td>https://www.kommersant.ru/doc/3859122</td>\n",
       "      <td>2019-01-18 20:48:00</td>\n",
       "      <td>Финансы</td>\n",
       "      <td>Объем операций в биткойнах в д...</td>\n",
       "      <td>Использование биткойнов для оплаты товаров и у...</td>\n",
       "    </tr>\n",
       "    <tr>\n",
       "      <th>3</th>\n",
       "      <td>https://www.kommersant.ru/doc/5347136</td>\n",
       "      <td>2022-09-05 20:55:00</td>\n",
       "      <td>Смерть Елизаветы II</td>\n",
       "      <td>Королева Елизавета II пропусти...</td>\n",
       "      <td>Королева Великобритании Елизавета II не будет ...</td>\n",
       "    </tr>\n",
       "    <tr>\n",
       "      <th>4</th>\n",
       "      <td>https://www.kommersant.ru/doc/1171617</td>\n",
       "      <td>2009-05-17 19:39:00</td>\n",
       "      <td>Общество</td>\n",
       "      <td>Япония и Великобритания сообщили о нов...</td>\n",
       "      <td>Число официально подтвержденных случаев зараже...</td>\n",
       "    </tr>\n",
       "    <tr>\n",
       "      <th>...</th>\n",
       "      <td>...</td>\n",
       "      <td>...</td>\n",
       "      <td>...</td>\n",
       "      <td>...</td>\n",
       "      <td>...</td>\n",
       "    </tr>\n",
       "    <tr>\n",
       "      <th>1287746</th>\n",
       "      <td>https://www.fontanka.ru/2023/11/16/72922028/</td>\n",
       "      <td>2023-11-16 00:00:00</td>\n",
       "      <td>['Археологические находки', 'Петербург']</td>\n",
       "      <td>В Петропавловской крепости покажут археологиче...</td>\n",
       "      <td>На экспозиции вы увидите предметы, найденные в...</td>\n",
       "    </tr>\n",
       "    <tr>\n",
       "      <th>1287747</th>\n",
       "      <td>https://www.fontanka.ru/2023/11/16/72921512/</td>\n",
       "      <td>2023-11-16 00:00:00</td>\n",
       "      <td>['Блокада Ленинграда']</td>\n",
       "      <td>В Доме Матюшина откроют выставку, посвященную ...</td>\n",
       "      <td>Название проекта в Музее петербургского аванга...</td>\n",
       "    </tr>\n",
       "    <tr>\n",
       "      <th>1287748</th>\n",
       "      <td>https://www.fontanka.ru/2023/11/14/72914111/</td>\n",
       "      <td>2023-11-14 00:00:00</td>\n",
       "      <td>['Фотографии', 'РОСФОТО']</td>\n",
       "      <td>В «Росфото» покажут «телевизор XIX века» — ста...</td>\n",
       "      <td>Выставка с названием «Зачем нам два глаза?» ра...</td>\n",
       "    </tr>\n",
       "    <tr>\n",
       "      <th>1287749</th>\n",
       "      <td>https://www.fontanka.ru/2023/11/17/72923615/</td>\n",
       "      <td>2023-11-17 00:00:00</td>\n",
       "      <td>['Развлечения', 'Музыка', 'Тест', 'Песни', 'Юм...</td>\n",
       "      <td>Все неправильно слышали слова этих песен. А чт...</td>\n",
       "      <td>Очень много воспоминаний у нас с вами оставили...</td>\n",
       "    </tr>\n",
       "    <tr>\n",
       "      <th>1287750</th>\n",
       "      <td>https://www.fontanka.ru/2023/11/12/72902537/</td>\n",
       "      <td>2023-11-12 00:00:00</td>\n",
       "      <td>['Тест']</td>\n",
       "      <td>Лишь те, кто вырос в СССР, ответят верно на вс...</td>\n",
       "      <td>Тем, кто не застал Советский Союз, приметы тог...</td>\n",
       "    </tr>\n",
       "  </tbody>\n",
       "</table>\n",
       "<p>1287747 rows × 5 columns</p>\n",
       "</div>"
      ],
      "text/plain": [
       "                                                  url       date and time  \\\n",
       "0                https://www.kommersant.ru/doc/973901 2004-04-22 17:39:00   \n",
       "1               https://www.kommersant.ru/doc/2200895 2013-05-30 18:15:00   \n",
       "2               https://www.kommersant.ru/doc/3859122 2019-01-18 20:48:00   \n",
       "3               https://www.kommersant.ru/doc/5347136 2022-09-05 20:55:00   \n",
       "4               https://www.kommersant.ru/doc/1171617 2009-05-17 19:39:00   \n",
       "...                                               ...                 ...   \n",
       "1287746  https://www.fontanka.ru/2023/11/16/72922028/ 2023-11-16 00:00:00   \n",
       "1287747  https://www.fontanka.ru/2023/11/16/72921512/ 2023-11-16 00:00:00   \n",
       "1287748  https://www.fontanka.ru/2023/11/14/72914111/ 2023-11-14 00:00:00   \n",
       "1287749  https://www.fontanka.ru/2023/11/17/72923615/ 2023-11-17 00:00:00   \n",
       "1287750  https://www.fontanka.ru/2023/11/12/72902537/ 2023-11-12 00:00:00   \n",
       "\n",
       "                                                       tag  \\\n",
       "0                                                      Мир   \n",
       "1                                                 Общество   \n",
       "2                                                  Финансы   \n",
       "3                                      Смерть Елизаветы II   \n",
       "4                                                 Общество   \n",
       "...                                                    ...   \n",
       "1287746           ['Археологические находки', 'Петербург']   \n",
       "1287747                             ['Блокада Ленинграда']   \n",
       "1287748                          ['Фотографии', 'РОСФОТО']   \n",
       "1287749  ['Развлечения', 'Музыка', 'Тест', 'Песни', 'Юм...   \n",
       "1287750                                           ['Тест']   \n",
       "\n",
       "                                                     title  \\\n",
       "0                       Абашидзе упразднил МГБ Аджарии       \n",
       "1                РЖД будут продавать билеты через «Почт...   \n",
       "2                        Объем операций в биткойнах в д...   \n",
       "3                        Королева Елизавета II пропусти...   \n",
       "4                Япония и Великобритания сообщили о нов...   \n",
       "...                                                    ...   \n",
       "1287746  В Петропавловской крепости покажут археологиче...   \n",
       "1287747  В Доме Матюшина откроют выставку, посвященную ...   \n",
       "1287748  В «Росфото» покажут «телевизор XIX века» — ста...   \n",
       "1287749  Все неправильно слышали слова этих песен. А чт...   \n",
       "1287750  Лишь те, кто вырос в СССР, ответят верно на вс...   \n",
       "\n",
       "                                                      text  \n",
       "0        Глава Аджарии Аслан Абашидзе принял решение об...  \n",
       "1        С 1 июля Российские железные дороги начнут про...  \n",
       "2        Использование биткойнов для оплаты товаров и у...  \n",
       "3        Королева Великобритании Елизавета II не будет ...  \n",
       "4        Число официально подтвержденных случаев зараже...  \n",
       "...                                                    ...  \n",
       "1287746  На экспозиции вы увидите предметы, найденные в...  \n",
       "1287747  Название проекта в Музее петербургского аванга...  \n",
       "1287748  Выставка с названием «Зачем нам два глаза?» ра...  \n",
       "1287749  Очень много воспоминаний у нас с вами оставили...  \n",
       "1287750  Тем, кто не застал Советский Союз, приметы тог...  \n",
       "\n",
       "[1287747 rows x 5 columns]"
      ]
     },
     "execution_count": 28,
     "metadata": {},
     "output_type": "execute_result"
    }
   ],
   "source": [
    "df"
   ]
  },
  {
   "cell_type": "code",
   "execution_count": 32,
   "id": "e48bb291",
   "metadata": {},
   "outputs": [
    {
     "name": "stderr",
     "output_type": "stream",
     "text": [
      "/tmp/ipykernel_30081/383952470.py:1: SettingWithCopyWarning: \n",
      "A value is trying to be set on a copy of a slice from a DataFrame.\n",
      "Try using .loc[row_indexer,col_indexer] = value instead\n",
      "\n",
      "See the caveats in the documentation: https://pandas.pydata.org/pandas-docs/stable/user_guide/indexing.html#returning-a-view-versus-a-copy\n",
      "  df['text'] = df['text'].str.replace('[\\[\\]]', '', regex=True)\n"
     ]
    }
   ],
   "source": [
    "df['text'] = df['text'].str.replace('[\\[\\]]', '', regex=True)"
   ]
  },
  {
   "cell_type": "code",
   "execution_count": 33,
   "id": "d4b0d9f2",
   "metadata": {},
   "outputs": [],
   "source": [
    "df.to_csv('parsed_news_EDA.csv', index=False, sep=';')"
   ]
  },
  {
   "cell_type": "code",
   "execution_count": 34,
   "id": "91697b92",
   "metadata": {},
   "outputs": [
    {
     "data": {
      "text/plain": [
       "106160"
      ]
     },
     "execution_count": 34,
     "metadata": {},
     "output_type": "execute_result"
    }
   ],
   "source": [
    "len(df['tag'].unique())"
   ]
  },
  {
   "cell_type": "code",
   "execution_count": null,
   "id": "fe464444",
   "metadata": {},
   "outputs": [],
   "source": []
  },
  {
   "cell_type": "code",
   "execution_count": null,
   "id": "74f9c0ef",
   "metadata": {},
   "outputs": [],
   "source": []
  }
 ],
 "metadata": {
  "kernelspec": {
   "display_name": "Python 3 (ipykernel)",
   "language": "python",
   "name": "python3"
  },
  "language_info": {
   "codemirror_mode": {
    "name": "ipython",
    "version": 3
   },
   "file_extension": ".py",
   "mimetype": "text/x-python",
   "name": "python",
   "nbconvert_exporter": "python",
   "pygments_lexer": "ipython3",
   "version": "3.11.4"
  }
 },
 "nbformat": 4,
 "nbformat_minor": 5
}
