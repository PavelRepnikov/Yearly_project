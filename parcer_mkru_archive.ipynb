{
 "cells": [
  {
   "cell_type": "code",
   "execution_count": 19,
   "id": "7e813304",
   "metadata": {},
   "outputs": [],
   "source": [
    "import requests\n",
    "from bs4 import BeautifulSoup\n",
    "from tqdm import tqdm\n",
    "import random\n",
    "import pandas as pd\n",
    "from time import sleep"
   ]
  },
  {
   "cell_type": "code",
   "execution_count": 20,
   "id": "7478e50c",
   "metadata": {},
   "outputs": [],
   "source": [
    "url_to_parce = 'https://www.mk.ru/news/'\n",
    "news_urls = set() # all urls to links\n",
    "news_lenta = [] # data for all news"
   ]
  },
  {
   "cell_type": "code",
   "execution_count": 21,
   "id": "9854751e",
   "metadata": {},
   "outputs": [],
   "source": [
    "def analyze_page(url0):\n",
    "    \"\"\"\n",
    "    Returns a tuple with \n",
    "    url0, time_and_date, tags, title_text, full_text\n",
    "    Parameters:\n",
    "    url0 is a link to the news (string)\n",
    "    \"\"\"\n",
    "\n",
    "    try:\n",
    "        page0 = requests.get(url0)\n",
    "    except:\n",
    "        return None, None, None, None, None\n",
    "    \n",
    "        \n",
    "    soup0 = BeautifulSoup(page0.text, 'html')\n",
    "\n",
    "    time_tag  = soup0.find('time', class_ = 'meta__text')             \n",
    "    try:    \n",
    "        time_and_date = time_tag.get_text(strip=True)\n",
    "    except:\n",
    "        time_and_date = None\n",
    "    \n",
    "    tag_elements = soup0.find_all('a', class_='article__tag-item')\n",
    "    try:\n",
    "        tags = [tag.get_text() for tag in tag_elements]\n",
    "    except:\n",
    "        tags = None\n",
    "        \n",
    "    title = (soup0.find('h1', class_ =  'article__title'))\n",
    "    try:\n",
    "        title_text = title.text\n",
    "    except:\n",
    "        title_text = None\n",
    "\n",
    "    text_contents = (soup0.find('div', class_ =  'article__body'))\n",
    "    full_text = text_contents.text\n",
    "\n",
    "    return url0, time_and_date, tags, title_text, full_text"
   ]
  },
  {
   "cell_type": "code",
   "execution_count": null,
   "id": "0a1be45c",
   "metadata": {},
   "outputs": [
    {
     "name": "stderr",
     "output_type": "stream",
     "text": [
      " 44%|████████████████▎                    | 11/25 [5:41:35<7:16:00, 1868.63s/it]"
     ]
    }
   ],
   "source": [
    "for year in tqdm(range(1998, 2023)):\n",
    "    for month in range(1, 12):\n",
    "        for day in range(1, 31):\n",
    "\n",
    "            url = url_to_parce + str(year)+ '/' + str(month) + '/' + str(day) + '/'\n",
    "                \n",
    "            try:\n",
    "                page = requests.get(url)\n",
    "            except:\n",
    "                continue\n",
    "            if page.status_code == 429: #Received a 429 Too Many Requests status.\n",
    "                time.sleep(500) # Waiting before retrying...\n",
    "                continue\n",
    "                    \n",
    "            soup = BeautifulSoup(page.text, 'html.parser')\n",
    "            for link in soup.find_all('a', class_='news-listing__item-link'):\n",
    "                news_urls.add(link.get('href'))\n",
    "\n",
    "            sleep(5)"
   ]
  },
  {
   "cell_type": "code",
   "execution_count": 5,
   "id": "839548f2",
   "metadata": {},
   "outputs": [
    {
     "name": "stdout",
     "output_type": "stream",
     "text": [
      "set()\n"
     ]
    }
   ],
   "source": [
    "print(news_urls)"
   ]
  },
  {
   "cell_type": "code",
   "execution_count": 26,
   "id": "26643e5f",
   "metadata": {},
   "outputs": [],
   "source": [
    "len(news_urls)\n",
    "\n",
    "df1 = pd.DataFrame(news_urls)\n",
    "df1.to_excel('urls_mkru_archive.xlsx')"
   ]
  },
  {
   "cell_type": "code",
   "execution_count": null,
   "id": "95e5f5f8",
   "metadata": {},
   "outputs": [],
   "source": [
    "for link in tqdm(news_urls):\n",
    "    try:\n",
    "        res = analyze_page(link)\n",
    "    except:\n",
    "        continue\n",
    "    if res.status_code == 429:\n",
    "        #print(\"Received a 429 Too Many Requests status. Waiting before retrying...\")\n",
    "        time.sleep(500)\n",
    "        res = analyze_page(link)\n",
    "    # print(res)\n",
    "    news_lenta.append(res)\n",
    "    sleep(5)\n"
   ]
  },
  {
   "cell_type": "code",
   "execution_count": null,
   "id": "8d6a1af6",
   "metadata": {},
   "outputs": [],
   "source": [
    "df = pd.DataFrame(news_lenta)\n",
    "df.columns = ['url','date and time', 'tag', 'title', 'text']\n",
    "df.to_excel('parsed_news_mkru_archive.xlsx')"
   ]
  }
 ],
 "metadata": {
  "kernelspec": {
   "display_name": "Python 3 (ipykernel)",
   "language": "python",
   "name": "python3"
  },
  "language_info": {
   "codemirror_mode": {
    "name": "ipython",
    "version": 3
   },
   "file_extension": ".py",
   "mimetype": "text/x-python",
   "name": "python",
   "nbconvert_exporter": "python",
   "pygments_lexer": "ipython3",
   "version": "3.11.4"
  }
 },
 "nbformat": 4,
 "nbformat_minor": 5
}
