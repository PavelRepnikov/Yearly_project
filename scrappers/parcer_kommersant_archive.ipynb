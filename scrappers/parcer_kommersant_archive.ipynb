{
 "cells": [
  {
   "cell_type": "code",
   "execution_count": 1,
   "id": "0eec7df8",
   "metadata": {},
   "outputs": [],
   "source": [
    "import requests\n",
    "from bs4 import BeautifulSoup\n",
    "from time import sleep\n",
    "from tqdm import tqdm\n",
    "import pandas as pd"
   ]
  },
  {
   "cell_type": "code",
   "execution_count": 3,
   "id": "51c302de",
   "metadata": {},
   "outputs": [],
   "source": [
    "url_to_parce = 'https://www.kommersant.ru/archive/news/day/'\n",
    "base_url = 'https://www.kommersant.ru'\n",
    "counter = 0\n",
    "news_urls = set() # all urls to links\n",
    "news_kommersant = [] # data for all news\n",
    "headers = {\n",
    "    'user-agent': 'Mozilla/5.0 (X11; Linux x86_64) AppleWebKit/537.36 (KHTML, like Gecko) Chrome/67.0.3396.99 Safari/537.36'\n",
    "}"
   ]
  },
  {
   "cell_type": "code",
   "execution_count": 4,
   "id": "82d0bfbd",
   "metadata": {},
   "outputs": [],
   "source": [
    "def analyze_page(url0):\n",
    "    \"\"\"\n",
    "    Returns a tuple with \n",
    "    url0, time_and_date, rubric_text, title_text, full_text\n",
    "    Parameters:\n",
    "    url0 is a link to the news (string)\n",
    "    \"\"\"\n",
    "\n",
    "    try:\n",
    "        page0 = requests.get(url0, headers=headers)\n",
    "    except:\n",
    "        return None, None, None, None, None\n",
    "    \n",
    "        \n",
    "    soup0 = BeautifulSoup(page0.text, 'html')\n",
    "\n",
    "    time_tag  = soup0.find('time', class_ = 'doc_header__publish_time')             \n",
    "    try:    \n",
    "        time_and_date = time_tag.get_text(strip=True)\n",
    "    except:\n",
    "        time_and_date = None\n",
    "    \n",
    "    tag = (soup0.find('a', class_ = 'decor'))\n",
    "    try:\n",
    "        rubric_text = tag.text\n",
    "    except:\n",
    "        rubric_text = None\n",
    "        \n",
    "    title = (soup0.find('h1', class_ =  'doc_header__name js-search-mark'))\n",
    "    try:\n",
    "        title_text = title.text\n",
    "    except:\n",
    "        title_text = None\n",
    "\n",
    "    text_contents = [p.get_text() for p in soup0.find_all('p', class_='doc__text')]\n",
    "    full_text = '\\n'.join(text_contents)\n",
    "    \n",
    "    return url0, time_and_date, rubric_text, title_text, full_text"
   ]
  },
  {
   "cell_type": "code",
   "execution_count": 4,
   "id": "e080504c",
   "metadata": {},
   "outputs": [
    {
     "name": "stderr",
     "output_type": "stream",
     "text": [
      "100%|████████████████████████████████████████| 21/21 [4:36:55<00:00, 791.23s/it]\n"
     ]
    }
   ],
   "source": [
    "for year in tqdm(range(2002, 2023)):\n",
    "    for month in range(1, 12):\n",
    "        for day in range(1, 31):\n",
    "\n",
    "            url = url_to_parce + str(year)\n",
    "            if month <= 9:\n",
    "                url = url + '-0' + str(month)\n",
    "            else:\n",
    "                url = url + '-' + str(month)\n",
    "            if day <= 9:\n",
    "                url = url + '-0' + str(day) \n",
    "            else:\n",
    "                url = url + '-' + str(day) \n",
    "                \n",
    "            #print(url)\n",
    "            try:\n",
    "                page = requests.get(url)\n",
    "            except:\n",
    "                print(\"ERROR OCCURED\")\n",
    "                continue\n",
    "            soup = BeautifulSoup(page.text, 'html.parser')\n",
    "\n",
    "            for link in soup.find_all('a', class_='uho__link uho__link--overlay'):\n",
    "                news_urls.add(base_url + link.get('href'))\n",
    "\n",
    "\n",
    "            sleep(2)\n",
    "\n"
   ]
  },
  {
   "cell_type": "code",
   "execution_count": 14,
   "id": "5231e1f4",
   "metadata": {},
   "outputs": [
    {
     "data": {
      "text/plain": [
       "127695"
      ]
     },
     "execution_count": 14,
     "metadata": {},
     "output_type": "execute_result"
    }
   ],
   "source": [
    "len(news_urls)"
   ]
  },
  {
   "cell_type": "code",
   "execution_count": 9,
   "id": "fb5253a3",
   "metadata": {},
   "outputs": [],
   "source": [
    "df1 = pd.DataFrame(news_urls)\n",
    "df1.to_excel('urls_kommersant_archive.xlsx')"
   ]
  },
  {
   "cell_type": "code",
   "execution_count": 11,
   "id": "0341e103",
   "metadata": {},
   "outputs": [],
   "source": [
    "df = pd.read_excel('urls_kommersant_archive.xlsx')\n",
    "news_urls = set(df[0])"
   ]
  },
  {
   "cell_type": "code",
   "execution_count": 36,
   "id": "8b4f2afb",
   "metadata": {},
   "outputs": [
    {
     "name": "stderr",
     "output_type": "stream",
     "text": [
      " 94%|███████████████████████████████  | 120320/127695 [11:19<2:41:55,  1.32s/it]Exception ignored in: <function ZipFile.__del__ at 0x7efe279ba840>\n",
      "Traceback (most recent call last):\n",
      "  File \"/usr/lib/python3.11/zipfile.py\", line 1874, in __del__\n",
      "    self.close()\n",
      "  File \"/usr/lib/python3.11/zipfile.py\", line 1891, in close\n",
      "    self.fp.seek(self.start_dir)\n",
      "ValueError: seek of closed file\n",
      "100%|█████████████████████████████████| 127695/127695 [4:16:27<00:00,  8.30it/s]\n"
     ]
    }
   ],
   "source": [
    "for link in tqdm(news_urls):\n",
    "    if link in existing_links:\n",
    "        continue\n",
    "    res = analyze_page(link)\n",
    "    #print(res)\n",
    "    news_kommersant.append(res)\n",
    "    sleep(1)\n",
    "    counter += 1\n",
    "    if counter % 100 == 0:\n",
    "        df = pd.DataFrame(news_kommersant)\n",
    "        df.columns = ['url','date and time', 'tag', 'title', 'text']\n",
    "        df.to_excel('parsed_news_kommersant_archive.xlsx')\n"
   ]
  },
  {
   "cell_type": "code",
   "execution_count": 37,
   "id": "0219c68c",
   "metadata": {},
   "outputs": [],
   "source": [
    "df = pd.DataFrame(news_kommersant)\n",
    "df.columns = ['url','date and time', 'tag', 'title', 'text']\n",
    "df.to_excel('parsed_news_kommersant_archive.xlsx')"
   ]
  },
  {
   "cell_type": "code",
   "execution_count": 35,
   "id": "cf64e201",
   "metadata": {},
   "outputs": [],
   "source": [
    "existing_links = [item[0] for item in news_kommersant]"
   ]
  }
 ],
 "metadata": {
  "kernelspec": {
   "display_name": "Python 3 (ipykernel)",
   "language": "python",
   "name": "python3"
  },
  "language_info": {
   "codemirror_mode": {
    "name": "ipython",
    "version": 3
   },
   "file_extension": ".py",
   "mimetype": "text/x-python",
   "name": "python",
   "nbconvert_exporter": "python",
   "pygments_lexer": "ipython3",
   "version": "3.11.4"
  }
 },
 "nbformat": 4,
 "nbformat_minor": 5
}
