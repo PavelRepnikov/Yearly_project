{
 "cells": [
  {
   "cell_type": "code",
   "execution_count": 10,
   "id": "0eec7df8",
   "metadata": {},
   "outputs": [],
   "source": [
    "import requests\n",
    "from bs4 import BeautifulSoup\n",
    "from time import sleep\n",
    "from tqdm import tqdm\n",
    "import pandas as pd"
   ]
  },
  {
   "cell_type": "code",
   "execution_count": 11,
   "id": "51c302de",
   "metadata": {},
   "outputs": [],
   "source": [
    "url_to_parce = 'https://www.kommersant.ru/archive/news/day/'\n",
    "base_url = 'https://www.kommersant.ru'\n",
    "news_urls = set() # all urls to links\n",
    "news_kommersant = [] # data for all news\n",
    "headers = {\n",
    "    'user-agent': 'Mozilla/5.0 (X11; Linux x86_64) AppleWebKit/537.36 (KHTML, like Gecko) Chrome/67.0.3396.99 Safari/537.36'\n",
    "}"
   ]
  },
  {
   "cell_type": "code",
   "execution_count": 12,
   "id": "82d0bfbd",
   "metadata": {},
   "outputs": [],
   "source": [
    "def analyze_page(url0):\n",
    "    \"\"\"\n",
    "    Returns a tuple with \n",
    "    url0, time_and_date, rubric_text, title_text, full_text\n",
    "    Parameters:\n",
    "    url0 is a link to the news (string)\n",
    "    \"\"\"\n",
    "\n",
    "    try:\n",
    "        page0 = requests.get(url0, headers=headers)\n",
    "    except:\n",
    "        return None, None, None, None, None\n",
    "    \n",
    "        \n",
    "    soup0 = BeautifulSoup(page0.text, 'html')\n",
    "\n",
    "    time_tag  = soup0.find('time', class_ = 'doc_header__publish_time')             \n",
    "    try:    \n",
    "        time_and_date = time_tag.get_text(strip=True)\n",
    "    except:\n",
    "        time_and_date = None\n",
    "    \n",
    "    tag = (soup0.find('a', class_ = 'decor'))\n",
    "    try:\n",
    "        rubric_text = tag.text\n",
    "    except:\n",
    "        rubric_text = None\n",
    "        \n",
    "    title = (soup0.find('h1', class_ =  'doc_header__name js-search-mark'))\n",
    "    try:\n",
    "        title_text = title.text\n",
    "    except:\n",
    "        title_text = None\n",
    "\n",
    "    text_contents = [p.get_text() for p in soup0.find_all('p', class_='doc__text')]\n",
    "    full_text = '\\n'.join(text_contents)\n",
    "\n",
    "    return url0, time_and_date, rubric_text, title_text, full_text"
   ]
  },
  {
   "cell_type": "code",
   "execution_count": 13,
   "id": "e080504c",
   "metadata": {},
   "outputs": [
    {
     "name": "stderr",
     "output_type": "stream",
     "text": [
      "100%|██████████| 21/21 [4:33:45<00:00, 782.18s/it]  \n"
     ]
    }
   ],
   "source": [
    "for year in tqdm(range(2002, 2023)):\n",
    "    for month in range(1, 12):\n",
    "        for day in range(1, 31):\n",
    "\n",
    "            url = url_to_parce + str(year)\n",
    "            if month <= 9:\n",
    "                url = url + '-0' + str(month)\n",
    "            else:\n",
    "                url = url + '-' + str(month)\n",
    "            if day <= 9:\n",
    "                url = url + '-0' + str(day) \n",
    "            else:\n",
    "                url = url + '-' + str(day) \n",
    "                \n",
    "            #print(url)\n",
    "            try:\n",
    "                page = requests.get(url)\n",
    "            except:\n",
    "                print(\"ERROR OCCURED\")\n",
    "                continue\n",
    "            soup = BeautifulSoup(page.text, 'html.parser')\n",
    "\n",
    "            for link in soup.find_all('a', class_='uho__link uho__link--overlay'):\n",
    "                news_urls.add(base_url + link.get('href'))\n",
    "\n",
    "\n",
    "            sleep(2)\n",
    "\n"
   ]
  },
  {
   "cell_type": "code",
   "execution_count": 14,
   "id": "b37026ca",
   "metadata": {},
   "outputs": [
    {
     "data": {
      "text/plain": [
       "127695"
      ]
     },
     "execution_count": 14,
     "metadata": {},
     "output_type": "execute_result"
    }
   ],
   "source": [
    "len(news_urls)"
   ]
  },
  {
   "cell_type": "code",
   "execution_count": 15,
   "id": "fb5253a3",
   "metadata": {},
   "outputs": [],
   "source": [
    "df1 = pd.DataFrame(news_urls)\n",
    "df1.to_excel('urls_kommersant_archive.xlsx')"
   ]
  },
  {
   "cell_type": "code",
   "execution_count": 16,
   "id": "b9c5c918",
   "metadata": {},
   "outputs": [
    {
     "name": "stderr",
     "output_type": "stream",
     "text": [
      "  0%|          | 179/127695 [06:54<82:00:29,  2.32s/it]\n"
     ]
    },
    {
     "ename": "KeyboardInterrupt",
     "evalue": "",
     "output_type": "error",
     "traceback": [
      "\u001b[0;31m---------------------------------------------------------------------------\u001b[0m",
      "\u001b[0;31mKeyboardInterrupt\u001b[0m                         Traceback (most recent call last)",
      "\u001b[1;32m/home/pasha/jypyter/parsers/parcer_kommersant_archive.ipynb Cell 7\u001b[0m line \u001b[0;36m5\n\u001b[1;32m      <a href='vscode-notebook-cell:/home/pasha/jypyter/parsers/parcer_kommersant_archive.ipynb#W5sZmlsZQ%3D%3D?line=2'>3</a>\u001b[0m \u001b[39m# print(res)\u001b[39;00m\n\u001b[1;32m      <a href='vscode-notebook-cell:/home/pasha/jypyter/parsers/parcer_kommersant_archive.ipynb#W5sZmlsZQ%3D%3D?line=3'>4</a>\u001b[0m news_kommersant\u001b[39m.\u001b[39mappend(res)\n\u001b[0;32m----> <a href='vscode-notebook-cell:/home/pasha/jypyter/parsers/parcer_kommersant_archive.ipynb#W5sZmlsZQ%3D%3D?line=4'>5</a>\u001b[0m sleep(\u001b[39m2\u001b[39m)\n",
      "\u001b[0;31mKeyboardInterrupt\u001b[0m: "
     ]
    }
   ],
   "source": [
    "for link in tqdm(news_urls):\n",
    "    res = analyze_page(link)\n",
    "    # print(res)\n",
    "    news_kommersant.append(res)\n",
    "    sleep(2)\n"
   ]
  },
  {
   "cell_type": "code",
   "execution_count": null,
   "id": "f64207e0",
   "metadata": {},
   "outputs": [],
   "source": [
    "df = pd.DataFrame(news_kommersant)\n",
    "df.columns = ['url','date and time', 'tag', 'title', 'text']\n",
    "df.to_excel('parsed_news_kommersant_archive.xlsx')"
   ]
  }
 ],
 "metadata": {
  "kernelspec": {
   "display_name": "Python 3 (ipykernel)",
   "language": "python",
   "name": "python3"
  },
  "language_info": {
   "codemirror_mode": {
    "name": "ipython",
    "version": 3
   },
   "file_extension": ".py",
   "mimetype": "text/x-python",
   "name": "python",
   "nbconvert_exporter": "python",
   "pygments_lexer": "ipython3",
   "version": "3.11.4"
  }
 },
 "nbformat": 4,
 "nbformat_minor": 5
}
