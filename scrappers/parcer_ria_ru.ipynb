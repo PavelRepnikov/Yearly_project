{
 "cells": [
  {
   "cell_type": "code",
   "execution_count": 111,
   "id": "8b366477",
   "metadata": {},
   "outputs": [],
   "source": [
    "import requests\n",
    "from bs4 import BeautifulSoup  \n",
    "import re\n",
    "\n",
    "url = 'https://ria.ru/' # сохраняем\n",
    "page = requests.get(url) # загружаем страницу по ссылке\n",
    "soup = BeautifulSoup(page.text, 'html')\n",
    "\n"
   ]
  },
  {
   "cell_type": "code",
   "execution_count": 112,
   "id": "8b670fe7",
   "metadata": {},
   "outputs": [
    {
     "data": {
      "text/plain": [
       "187"
      ]
     },
     "execution_count": 112,
     "metadata": {},
     "output_type": "execute_result"
    }
   ],
   "source": [
    "#print(soup.prettify())\n",
    "len(soup.find_all('a'))"
   ]
  },
  {
   "cell_type": "code",
   "execution_count": 113,
   "id": "35d97dab",
   "metadata": {},
   "outputs": [],
   "source": [
    "#for link in soup.find_all('a'):\n",
    "#    print(link.get('href'))\n",
    "    "
   ]
  },
  {
   "cell_type": "code",
   "execution_count": 114,
   "id": "88f4f688",
   "metadata": {},
   "outputs": [],
   "source": [
    "#for link in soup.find_all('a'):\n",
    "#    print(link.text)"
   ]
  },
  {
   "cell_type": "code",
   "execution_count": 115,
   "id": "713d66fb",
   "metadata": {},
   "outputs": [
    {
     "data": {
      "text/plain": [
       "<a class=\"cell-list__item-link color-font-hover-only\" data-semaphore=\"1\" href=\"https://ria.ru/20231019/oppozitsiya-1903895747.html\" title=\"Оппозиция опротестовала продление режима ЧП в Молдавии\"><span class=\"cell-list__item-title\">Оппозиция опротестовала продление режима ЧП в Молдавии</span><div class=\"cell-list__item-info\"><div class=\"cell-info__date\">16:46</div></div></a>"
      ]
     },
     "execution_count": 115,
     "metadata": {},
     "output_type": "execute_result"
    }
   ],
   "source": [
    "soup.find_all('a')[40]"
   ]
  },
  {
   "cell_type": "code",
   "execution_count": null,
   "id": "f3f2f63d",
   "metadata": {},
   "outputs": [],
   "source": []
  },
  {
   "cell_type": "code",
   "execution_count": 116,
   "id": "d9cbc40d",
   "metadata": {},
   "outputs": [],
   "source": [
    "needed_urls = []\n",
    "for link in soup.find_all('a'):\n",
    "    if link.get('href') != None:\n",
    "        if 'https://ria.ru/2023' in link.get('href'):\n",
    "            needed_urls.append(link.get('href'))"
   ]
  },
  {
   "cell_type": "code",
   "execution_count": 117,
   "id": "4e592d31",
   "metadata": {},
   "outputs": [
    {
     "name": "stdout",
     "output_type": "stream",
     "text": [
      "['https://ria.ru/20231019/izrail-1903898047.html', 'https://ria.ru/20231019/podryv-1903897787.html', 'https://ria.ru/20231019/ranenie-1903903337.html', 'https://ria.ru/20231019/poteri-1903853860.html', 'https://ria.ru/20231019/oppozitsiya-1903895747.html', 'https://ria.ru/20231019/trevoga-1903781272.html', 'https://ria.ru/20231019/sanktsii-1903786243.html', 'https://ria.ru/20231019/ssha-1903759999.html', 'https://ria.ru/20231019/chto_takoe_magnitnye_buri_vliyanie_na_zdorove_cheloveka-1870201378.html', 'https://ria.ru/20231019/karty-1903753754.html', 'https://ria.ru/20231019/revolyutsiya-1903712852.html', 'https://ria.ru/20231019/pamyatnik-1903683662.html', 'https://ria.ru/20231019/forum-1903717689.html', 'https://ria.ru/20231019/otrk-1903675068.html', 'https://ria.ru/20231019/konkurs-1903796834.html', 'https://ria.ru/20231019/polsha-1903845098.html', 'https://ria.ru/20231019/spg-1903637423.html', 'https://ria.ru/20231019/leopard-1903909435.html', 'https://ria.ru/20231019/spasenie-1903883211.html', 'https://ria.ru/20231019/namin-1903858225.html', 'https://ria.ru/20231019/abrams-1903889679.html', 'https://ria.ru/20231019/gladkov-1903792669.html', 'https://ria.ru/20231019/delfin-1903596831.html', 'https://ria.ru/20231019/serbiya-1903833095.html?rcmd_alg=slotter', 'https://ria.ru/20231019/granitsa-1903913844.html?rcmd_alg=slotter', 'https://ria.ru/20231019/zhurnalist-1903911425.html?rcmd_alg=slotter', 'https://ria.ru/20231019/udary-1903847886.html?rcmd_alg=slotter', 'https://ria.ru/20231019/balticconnector-1903891851.html?rcmd_alg=slotter', 'https://ria.ru/20231019/proisshestvie-1903828111.html', 'https://ria.ru/20231019/vzryvatel-1903852651.html', 'https://ria.ru/20231019/sholts-1903915190.html', 'https://ria.ru/20231019/sud-1903770295.html', 'https://ria.ru/20231019/tyumen-1903462281.html', 'https://ria.ru/20231018/politika-1903603851.html', 'https://ria.ru/20231018/gaza-1903528550.html', 'https://ria.ru/20231018/pvo-1903386636.html', 'https://ria.ru/20231018/ukraina-1903333307.html', 'https://ria.ru/20231018/luna-1903364255.html', 'https://ria.ru/20231018/arkhangelsk-1903111334.html', 'https://ria.ru/20231018/gastroli-1903304643.html', 'https://ria.ru/20231018/kiev-1903469830.html', 'https://ria.ru/20231018/voyna-1903456120.html', 'https://ria.ru/20231018/evropa-1903441263.html']\n"
     ]
    },
    {
     "data": {
      "text/plain": [
       "43"
      ]
     },
     "execution_count": 117,
     "metadata": {},
     "output_type": "execute_result"
    }
   ],
   "source": [
    "print(needed_urls)\n",
    "len(needed_urls)"
   ]
  },
  {
   "cell_type": "code",
   "execution_count": 118,
   "id": "1eae2c34",
   "metadata": {},
   "outputs": [
    {
     "data": {
      "text/plain": [
       "'https://ria.ru/20231019/izrail-1903898047.html'"
      ]
     },
     "execution_count": 118,
     "metadata": {},
     "output_type": "execute_result"
    }
   ],
   "source": [
    "url0 = needed_urls[0]\n",
    "\n",
    "page0 = requests.get(url0)\n",
    "soup0 = BeautifulSoup(page0.text, 'html')\n",
    "url0"
   ]
  },
  {
   "cell_type": "code",
   "execution_count": 119,
   "id": "70ea7f12",
   "metadata": {},
   "outputs": [
    {
     "data": {
      "text/plain": [
       "[<span class=\"m-email\"></span>,\n",
       " <span class=\"header__menu-icon color-svg-hover-only\" data-auth=\"1\"><svg class=\"svg-icon\"><use xlink:href=\"#header_icon-user_filled\" xmlns:xlink=\"http://www.w3.org/1999/xlink\"></use></svg></span>,\n",
       " <span class=\"header__menu-icon color-svg-hover-only\" data-auth=\"0\"><svg class=\"svg-icon\"><use xlink:href=\"#header_icon-user\" xmlns:xlink=\"http://www.w3.org/1999/xlink\"></use></svg></span>,\n",
       " <span class=\"header__menu-share\"><div class=\"share m-header\" data-id=\"1903898047\" data-nosnippet=\"true\" data-title=\"Израиль заявил об ударе по отряду палестинцев в лагере беженцев\" data-url=\"https://ria.ru/20231019/izrail-1903898047.html\"></div></span>,\n",
       " <span class=\"header__menu-icon color-svg-hover-only\"><svg class=\"svg-icon\"><use xlink:href=\"#header_icon-search\" xmlns:xlink=\"http://www.w3.org/1999/xlink\"></use></svg></span>,\n",
       " <span class=\"header__menu-icon color-svg-hover-only\"><svg class=\"svg-icon\"><use xlink:href=\"#header_icon-chat\" xmlns:xlink=\"http://www.w3.org/1999/xlink\"></use></svg></span>,\n",
       " <span> </span>,\n",
       " <span class=\"article__info-date-modified\">\n",
       "                                 (обновлено: 17:30 19.10.2023)\n",
       "                             </span>,\n",
       " <span class=\"photoview__copyright\">© AP Photo / Majdi Mohammed</span>,\n",
       " <span class=\"photoview__ext-link\"></span>,\n",
       " <span class=\"photoview__desc-text\">Дым поднимается над лагерем беженцев Нур-Шамс после израильского авиаудара по Западному берегу</span>,\n",
       " <span class=\"article__aggr-txt\">Читать ria.ru в </span>,\n",
       " <span class=\"article__article-desc\"><span class=\"article__article-title\">\"Хезболла\" и ВС Израиля обменялись ударами на ливано-израильской границе</span><div class=\"article__article-info\" data-type=\"article\"><div class=\"article__block-date\">14:26</div><span class=\"share\" data-id=\"1903847886\" data-nosnippet=\"true\" data-title='\"Хезболла\" и ВС Израиля обменялись ударами на ливано-израильской границе' data-url=\"https://ria.ru/20231019/udary-1903847886.html\"></span></div></span>,\n",
       " <span class=\"article__article-title\">\"Хезболла\" и ВС Израиля обменялись ударами на ливано-израильской границе</span>,\n",
       " <span class=\"share\" data-id=\"1903847886\" data-nosnippet=\"true\" data-title='\"Хезболла\" и ВС Израиля обменялись ударами на ливано-израильской границе' data-url=\"https://ria.ru/20231019/udary-1903847886.html\"></span>,\n",
       " <span class=\"article__article-desc\"><span class=\"article__article-title\">В ЦАХАЛ приграничные к сектору Газа районы назвали зоной военных действий</span><div class=\"article__article-info\" data-type=\"article\"><div class=\"article__block-date\">11:54</div><span class=\"share\" data-id=\"1903789354\" data-nosnippet=\"true\" data-title=\"В ЦАХАЛ приграничные к сектору Газа районы назвали зоной военных действий\" data-url=\"https://ria.ru/20231019/gaza-1903789354.html\"></span></div></span>,\n",
       " <span class=\"article__article-title\">В ЦАХАЛ приграничные к сектору Газа районы назвали зоной военных действий</span>,\n",
       " <span class=\"share\" data-id=\"1903789354\" data-nosnippet=\"true\" data-title=\"В ЦАХАЛ приграничные к сектору Газа районы назвали зоной военных действий\" data-url=\"https://ria.ru/20231019/gaza-1903789354.html\"></span>,\n",
       " <span> </span>,\n",
       " <span> </span>,\n",
       " <span class=\"share m-article m-sticky\" data-id=\"1903898047\" data-nosnippet=\"true\" data-title=\"Израиль заявил об ударе по отряду палестинцев в лагере беженцев\" data-url=\"https://ria.ru/20231019/izrail-1903898047.html\"></span>,\n",
       " <span> </span>,\n",
       " <span class=\"m-icon-normal\"><svg class=\"svg-icon\"><use xlink:href=\"#icon-chat_solid\" xmlns:xlink=\"http://www.w3.org/1999/xlink\"></use></svg></span>,\n",
       " <span class=\"online__sort-button m-asc m-active\" data-order=\"desc\" data-type-sort=\"\">Сначала новые</span>,\n",
       " <span class=\"online__sort-button m-desc\" data-order=\"asc\" data-type-sort=\"\">Сначала старые</span>,\n",
       " <span>Онлайн</span>,\n",
       " <span id=\"liveTitle\">Заголовок открываемого материала</span>,\n",
       " <span><svg class=\"svg-icon\"><use xlink:href=\"#icon-close_small\" xmlns:xlink=\"http://www.w3.org/1999/xlink\"></use></svg></span>,\n",
       " <span><svg class=\"svg-icon\"><use xlink:href=\"#icon-left_wide_small\" xmlns:xlink=\"http://www.w3.org/1999/xlink\"></use></svg></span>,\n",
       " <span id=\"chatBannedTime\">∞</span>,\n",
       " <span>Обсуждения</span>,\n",
       " <span id=\"chatTitle\">Заголовок открываемого материала</span>,\n",
       " <span id=\"chatNotificationOn\" title=\"Выключить уведомления\"><svg class=\"svg-icon\"><use xlink:href=\"#icon-notification\" xmlns:xlink=\"http://www.w3.org/1999/xlink\"></use></svg></span>,\n",
       " <span id=\"chatNotificationOff\" style=\"display: none;\" title=\"Включить уведомления\"><svg class=\"svg-icon\"><use xlink:href=\"#icon-notification_off\" xmlns:xlink=\"http://www.w3.org/1999/xlink\"></use></svg></span>,\n",
       " <span><svg class=\"svg-icon\"><use xlink:href=\"#icon-close_small\" xmlns:xlink=\"http://www.w3.org/1999/xlink\"></use></svg></span>,\n",
       " <span><svg class=\"svg-icon\"><use xlink:href=\"#icon-left_wide_small\" xmlns:xlink=\"http://www.w3.org/1999/xlink\"></use></svg></span>,\n",
       " <span></span>,\n",
       " <span class=\"lenta__header-text1\">Лента новостей</span>,\n",
       " <span class=\"lenta__header-text2\">Молния</span>,\n",
       " <span></span>,\n",
       " <span></span>,\n",
       " <span>\n",
       "                             Я принимаю условия соглашения и даю своё согласие на обработку персональных данных в соответствии\n",
       "                             с <a href=\"/docs/about/privacy_policy.html\" target=\"_blank\">Политикой конфиденциальности</a>\n",
       "                              Федерального Государственного Унитарного Предприятия «Международное информационное агентство «Россия сегодня»,\n",
       "                             расположенного по адресу: Россия, 119021, г. Москва, Зубовский бульвар, д. 4.\n",
       "                         </span>,\n",
       " <span>Я принимаю условия <a href=\"/docs/about/privacy_policy.html\" target=\"_blank\">соглашения</a></span>,\n",
       " <span>Да</span>,\n",
       " <span>Нет</span>,\n",
       " <span>Перетащите, <a>или выберите скриншот</a></span>,\n",
       " <span></span>,\n",
       " <span></span>]"
      ]
     },
     "execution_count": 119,
     "metadata": {},
     "output_type": "execute_result"
    }
   ],
   "source": [
    "#soup0.find_all('meta')\n",
    "soup0.find_all('span')"
   ]
  },
  {
   "cell_type": "code",
   "execution_count": 120,
   "id": "6df68038",
   "metadata": {},
   "outputs": [
    {
     "data": {
      "text/plain": [
       "[<meta content=\"\" name=\"analytics:author\"/>]"
      ]
     },
     "execution_count": 120,
     "metadata": {},
     "output_type": "execute_result"
    }
   ],
   "source": [
    "soup0.find_all('meta', {'name' : 'analytics:author'}) "
   ]
  },
  {
   "cell_type": "code",
   "execution_count": 121,
   "id": "dfaeac2b",
   "metadata": {},
   "outputs": [
    {
     "data": {
      "text/plain": [
       "''"
      ]
     },
     "execution_count": 121,
     "metadata": {},
     "output_type": "execute_result"
    }
   ],
   "source": [
    "soup0.find_all('meta', {'name' : 'analytics:author'})[0].get('content')\n"
   ]
  },
  {
   "cell_type": "code",
   "execution_count": 122,
   "id": "bcfdaac9",
   "metadata": {},
   "outputs": [
    {
     "data": {
      "text/plain": [
       "'Израиль заявил об ударе по отряду палестинцев в лагере беженцев'"
      ]
     },
     "execution_count": 122,
     "metadata": {},
     "output_type": "execute_result"
    }
   ],
   "source": [
    "soup0.find_all('meta', {'property' : 'og:title'})[0].get('content')\n"
   ]
  },
  {
   "cell_type": "code",
   "execution_count": 123,
   "id": "c4b0e64b",
   "metadata": {},
   "outputs": [
    {
     "name": "stdout",
     "output_type": "stream",
     "text": [
      "19.10.2023\n"
     ]
    }
   ],
   "source": [
    "date = soup0.find_all('span', {'class' : 'article__info-date-modified'})\n",
    "#print(date)\n",
    "pattern = r\"(\\d{2}.\\d{2}.\\d{4})\"\n",
    "match = re.search(pattern, str(date))\n",
    "\n",
    "\n",
    "\n",
    "#print(match)\n",
    "date = match.group(0)\n",
    "print(date)\n",
    "\n"
   ]
  },
  {
   "cell_type": "code",
   "execution_count": 124,
   "id": "4d4c2b03",
   "metadata": {},
   "outputs": [
    {
     "name": "stdout",
     "output_type": "stream",
     "text": [
      "Израиль заявил об ударе по отряду палестинцев в лагере беженцев\n"
     ]
    }
   ],
   "source": [
    "title = soup0.find_all('meta', {'property' : 'og:title'})[0].get('content')\n",
    "print(title)\n"
   ]
  },
  {
   "cell_type": "code",
   "execution_count": 125,
   "id": "b760595e",
   "metadata": {},
   "outputs": [
    {
     "name": "stdout",
     "output_type": "stream",
     "text": [
      "<a class=\"article__tags-item\" href=\"https://ria.ru/world/\">В мире</a>\n",
      "<a class=\"article__tags-item\" href=\"https://ria.ru/location_Israel/\">Израиль</a>\n",
      "<a class=\"article__tags-item\" href=\"https://ria.ru/category_obostrenie-palestino-izrailskogo-konflikta-v-2023-godu/\">Обострение палестино-израильского конфликта в 2023 году</a>\n",
      "\n",
      "\n",
      "\n",
      " ['В мире', 'Израиль', 'Обострение палестино-израильского конфликта в 2023 году']\n"
     ]
    }
   ],
   "source": [
    "tag = ''\n",
    "tags = []\n",
    "for i in range(len(soup0.find_all('a', {'class' : 'article__tags-item'}))):\n",
    "    html = soup0.find_all('a', {'class' : 'article__tags-item'})[i]\n",
    "    print(html)\n",
    "    soup = BeautifulSoup(str(html), 'html.parser')\n",
    "    tag_text = soup.a.text\n",
    "    #print(needed)\n",
    "    tags.append(tag_text)\n",
    "    \n",
    "print('\\n\\n\\n',tags)\n",
    "\n",
    "\n",
    "#match = (re.search(r'>([^<]+)</a>', str(soup0.find_all('a', {'class' : 'article__tags-item'})[0])))    \n",
    "#match = re.search(r'>([^<]+)</a>', str(tags))\n",
    "\n",
    "#print(match.group(1))\n",
    "#len(soup0.find_all('a', {'class' : 'article__tags-item'}))"
   ]
  },
  {
   "cell_type": "code",
   "execution_count": null,
   "id": "8e781f29",
   "metadata": {},
   "outputs": [],
   "source": []
  },
  {
   "cell_type": "code",
   "execution_count": 126,
   "id": "96a22d73",
   "metadata": {},
   "outputs": [
    {
     "name": "stdout",
     "output_type": "stream",
     "text": [
      "[<div class=\"article__text\"><strong>ТЕЛЬ-АВИВ, 19 окт — РИА Новости.</strong> Армия обороны Израиля (ЦАХАЛ) сообщила о нанесении авиаудара по отряду вооруженных палестинцев в лагере беженцев Нур-Шамс на Западном берегу.</div>, <div class=\"article__text\">\"Самолет ЦАХАЛ нанес удар по отряду вооруженных террористов, который представлял угрозу для солдат в этом районе, в результате чего было убито несколько террористов\", — говорится в пресс-релизе.</div>, <div class=\"article__text\">Как отмечается, израильские силовики проводят там операцию со вчерашнего вечера.</div>, <div class=\"article__text\">Сегодня военное крыло палестинского движения <a data-auto=\"true\" href=\"/organization_KHamas/\" target=\"_blank\">ХАМАС</a> — бригады \"Аль-Кассам\" сообщило об ожесточенных боях в лагере Нур-Шамс. По данным местного Минздрава, в результате штурма погибли не менее пяти человек.</div>, <div class=\"article__text\">Операция израильских военных \"Железные мечи\" началась в ответ на нападение движения ХАМАС на граничащие с сектором Газа районы на юге еврейского государства 7 октября. В течение нескольких дней армия Израиля вернула контроль над всеми населенными пунктами у границы и начала наносить авиационные удары по территории сектора. Также Израиль ввел полную блокаду анклава: приостановлены поставки воды, продуктов, электричества, медикаментов, топлива.</div>, <div class=\"article__text\">Число жертв эскалации в секторе Газа достигло 3478 человек, погибших жителей Израиля — более тысячи, несколько тысяч израильтян и палестинцев получили ранения. Сообщалось о 16 погибших и восьми пропавших без вести россиянах, а также гражданах других стран. По разным данным, в плену у ХАМАС могут находиться от 150 до 250 человек.</div>]\n"
     ]
    }
   ],
   "source": [
    "text = soup0.find_all('div', {'class' : 'article__text'})\n",
    "print(text)"
   ]
  },
  {
   "cell_type": "code",
   "execution_count": 127,
   "id": "6ed8a1c7",
   "metadata": {},
   "outputs": [
    {
     "name": "stdout",
     "output_type": "stream",
     "text": [
      "ТЕЛЬ-АВИВ, 19 окт — РИА Новости. Армия обороны Израиля (ЦАХАЛ) сообщила о нанесении авиаудара по отряду вооруженных палестинцев в лагере беженцев Нур-Шамс на Западном берегу.\n",
      "\"Самолет ЦАХАЛ нанес удар по отряду вооруженных террористов, который представлял угрозу для солдат в этом районе, в результате чего было убито несколько террористов\", — говорится в пресс-релизе.\n",
      "Как отмечается, израильские силовики проводят там операцию со вчерашнего вечера.\n",
      "Сегодня военное крыло палестинского движения ХАМАС — бригады \"Аль-Кассам\" сообщило об ожесточенных боях в лагере Нур-Шамс. По данным местного Минздрава, в результате штурма погибли не менее пяти человек.\n",
      "Операция израильских военных \"Железные мечи\" началась в ответ на нападение движения ХАМАС на граничащие с сектором Газа районы на юге еврейского государства 7 октября. В течение нескольких дней армия Израиля вернула контроль над всеми населенными пунктами у границы и начала наносить авиационные удары по территории сектора. Также Израиль ввел полную блокаду анклава: приостановлены поставки воды, продуктов, электричества, медикаментов, топлива.\n",
      "Число жертв эскалации в секторе Газа достигло 3478 человек, погибших жителей Израиля — более тысячи, несколько тысяч израильтян и палестинцев получили ранения. Сообщалось о 16 погибших и восьми пропавших без вести россиянах, а также гражданах других стран. По разным данным, в плену у ХАМАС могут находиться от 150 до 250 человек.\n"
     ]
    }
   ],
   "source": [
    "# Создаем объект BeautifulSoup\n",
    "text = BeautifulSoup(str(text), 'html.parser')\n",
    "# Извлекаем все элементы <div> с классом \"article__text\"\n",
    "div_elements = text.find_all('div', class_='article__text')\n",
    "# Извлекаем текст из каждого элемента и сохраняем его в список\n",
    "text_list = [element.get_text() for element in div_elements]\n",
    "# Объединяем текст в одну строку, разделяя переносами строки\n",
    "full_text = '\\n'.join(text_list)\n",
    "# Выводим извлеченный текст\n",
    "print(full_text)"
   ]
  },
  {
   "cell_type": "code",
   "execution_count": null,
   "id": "73228c92",
   "metadata": {},
   "outputs": [],
   "source": []
  },
  {
   "cell_type": "code",
   "execution_count": null,
   "id": "f8d195bc",
   "metadata": {},
   "outputs": [],
   "source": []
  }
 ],
 "metadata": {
  "kernelspec": {
   "display_name": "Python 3 (ipykernel)",
   "language": "python",
   "name": "python3"
  },
  "language_info": {
   "codemirror_mode": {
    "name": "ipython",
    "version": 3
   },
   "file_extension": ".py",
   "mimetype": "text/x-python",
   "name": "python",
   "nbconvert_exporter": "python",
   "pygments_lexer": "ipython3",
   "version": "3.11.4"
  }
 },
 "nbformat": 4,
 "nbformat_minor": 5
}
