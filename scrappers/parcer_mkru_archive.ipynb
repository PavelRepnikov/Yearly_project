{
 "cells": [
  {
   "cell_type": "code",
   "execution_count": 1,
   "id": "7e813304",
   "metadata": {},
   "outputs": [],
   "source": [
    "import requests\n",
    "from bs4 import BeautifulSoup\n",
    "from tqdm import tqdm\n",
    "import random\n",
    "import pandas as pd\n",
    "from time import sleep"
   ]
  },
  {
   "cell_type": "code",
   "execution_count": 2,
   "id": "7478e50c",
   "metadata": {},
   "outputs": [],
   "source": [
    "url_to_parce = 'https://www.mk.ru/news/'\n",
    "counter = 0\n",
    "news_urls = set() # all urls to links\n",
    "news_mkru = [] # data for all news\n",
    "headers = {\n",
    "    'user-agent': 'Mozilla/5.0 (X11; Linux x86_64) AppleWebKit/537.36 (KHTML, like Gecko) Chrome/67.0.3396.99 Safari/537.36'\n",
    "}\n"
   ]
  },
  {
   "cell_type": "code",
   "execution_count": 3,
   "id": "9854751e",
   "metadata": {},
   "outputs": [],
   "source": [
    "def analyze_page(url0):\n",
    "    \"\"\"\n",
    "    Returns a tuple with \n",
    "    url0, time_and_date, tags, title_text, full_text\n",
    "    Parameters:\n",
    "    url0 is a link to the news (string)\n",
    "    \"\"\"\n",
    "\n",
    "    try:\n",
    "        page0 = requests.get(url0, headers=headers)\n",
    "    except:\n",
    "        return None, None, None, None, None\n",
    "    \n",
    "        \n",
    "    soup0 = BeautifulSoup(page0.text, 'html')\n",
    "\n",
    "    time_tag  = soup0.find('time', class_ = 'meta__text')             \n",
    "    try:    \n",
    "        time_and_date = time_tag.get_text(strip=True)\n",
    "    except:\n",
    "        time_and_date = None\n",
    "    \n",
    "    tag_elements = soup0.find_all('a', class_='article__tag-item')\n",
    "    try:\n",
    "        tags = [tag.get_text() for tag in tag_elements]\n",
    "    except:\n",
    "        tags = None\n",
    "        \n",
    "    title = (soup0.find('h1', class_ =  'article__title'))\n",
    "    try:\n",
    "        title_text = title.text\n",
    "    except:\n",
    "        title_text = None\n",
    "\n",
    "    text_contents = (soup0.find('div', class_ =  'article__body'))\n",
    "    try:\n",
    "        full_text = text_contents.text\n",
    "    except:\n",
    "        full_text = None\n",
    "        \n",
    "    return url0, time_and_date, tags, title_text, full_text"
   ]
  },
  {
   "cell_type": "code",
   "execution_count": 9,
   "id": "0a1be45c",
   "metadata": {},
   "outputs": [
    {
     "name": "stderr",
     "output_type": "stream",
     "text": [
      "100%|████████████████████████████████████████| 25/25 [6:31:14<00:00, 938.99s/it]\n"
     ]
    }
   ],
   "source": [
    "for year in tqdm(range(1998, 2023)):\n",
    "    for month in range(1, 12):\n",
    "        for day in range(1, 31):\n",
    "\n",
    "            url = url_to_parce + str(year)+ '/' + str(month) + '/' + str(day) + '/'\n",
    "                \n",
    "            try:\n",
    "                page = requests.get(url)\n",
    "            except:\n",
    "                continue\n",
    "            if page.status_code == 429: #Received a 429 Too Many Requests status.\n",
    "                #print('429')\n",
    "                sleep(100) # Waiting before retrying...\n",
    "                continue\n",
    "                    \n",
    "            soup = BeautifulSoup(page.text, 'html.parser')\n",
    "            for link in soup.find_all('a', class_='news-listing__item-link'):\n",
    "                news_urls.add(link.get('href'))\n",
    "\n",
    "            sleep(2)"
   ]
  },
  {
   "cell_type": "code",
   "execution_count": 21,
   "id": "26643e5f",
   "metadata": {},
   "outputs": [],
   "source": [
    "df1 = pd.DataFrame(news_urls)\n",
    "df1.to_excel('urls_mkru_archive.xlsx')"
   ]
  },
  {
   "cell_type": "code",
   "execution_count": 22,
   "id": "be6efc29",
   "metadata": {},
   "outputs": [],
   "source": [
    "df = pd.read_excel('urls_mkru_archive.xlsx')\n",
    "news_urls = set(df)"
   ]
  },
  {
   "cell_type": "code",
   "execution_count": 5,
   "id": "c62d839d",
   "metadata": {},
   "outputs": [],
   "source": [
    "df = pd.read_excel('parsed_news_mkru_archive.xlsx')\n",
    "news_mkru = [df]"
   ]
  },
  {
   "cell_type": "code",
   "execution_count": 13,
   "id": "3e029c80",
   "metadata": {},
   "outputs": [],
   "source": [
    "existing_links = [item for item in news_mkru]"
   ]
  },
  {
   "cell_type": "code",
   "execution_count": 15,
   "id": "95e5f5f8",
   "metadata": {
    "scrolled": true
   },
   "outputs": [
    {
     "name": "stderr",
     "output_type": "stream",
     "text": [
      "0it [00:00, ?it/s]\n"
     ]
    }
   ],
   "source": [
    "for link in tqdm(news_urls):\n",
    "    if link in existing_links:\n",
    "        continue\n",
    "    res = analyze_page(link)\n",
    "    # print(res)\n",
    "    news_mkru.append(res)\n",
    "    #sleep(1)\n",
    "    counter += 1\n",
    "    if counter % 10000 == 0:\n",
    "        df = pd.DataFrame(news_mkru)\n",
    "        df.columns = ['url','date and time', 'tag', 'title', 'text']\n",
    "        df.to_excel('parsed_news_mkru_archive.xlsx')"
   ]
  },
  {
   "cell_type": "code",
   "execution_count": null,
   "id": "8d6a1af6",
   "metadata": {},
   "outputs": [],
   "source": [
    "df = pd.DataFrame(news_mkru)\n",
    "df.columns = ['url','date and time', 'tag', 'title', 'text']\n",
    "df.to_excel('parsed_news_mkru_archive.xlsx')"
   ]
  },
  {
   "cell_type": "code",
   "execution_count": 67,
   "id": "f52b806f",
   "metadata": {},
   "outputs": [],
   "source": [
    "existing_links = [item[0] for item in news_mkru]"
   ]
  },
  {
   "cell_type": "code",
   "execution_count": null,
   "id": "d20a2efe",
   "metadata": {},
   "outputs": [],
   "source": []
  }
 ],
 "metadata": {
  "kernelspec": {
   "display_name": "Python 3 (ipykernel)",
   "language": "python",
   "name": "python3"
  },
  "language_info": {
   "codemirror_mode": {
    "name": "ipython",
    "version": 3
   },
   "file_extension": ".py",
   "mimetype": "text/x-python",
   "name": "python",
   "nbconvert_exporter": "python",
   "pygments_lexer": "ipython3",
   "version": "3.11.6"
  }
 },
 "nbformat": 4,
 "nbformat_minor": 5
}
