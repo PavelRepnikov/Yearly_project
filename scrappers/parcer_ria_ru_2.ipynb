{
 "cells": [
  {
   "cell_type": "code",
   "execution_count": 141,
   "id": "8b366477",
   "metadata": {},
   "outputs": [],
   "source": [
    "import requests\n",
    "from bs4 import BeautifulSoup  \n",
    "import re\n",
    "\n",
    "url = 'https://ria.ru/' # сохраняем\n",
    "page = requests.get(url) # загружаем страницу по ссылке\n",
    "soup = BeautifulSoup(page.text, 'html')\n",
    "\n"
   ]
  },
  {
   "cell_type": "code",
   "execution_count": 142,
   "id": "8b670fe7",
   "metadata": {},
   "outputs": [
    {
     "data": {
      "text/plain": [
       "188"
      ]
     },
     "execution_count": 142,
     "metadata": {},
     "output_type": "execute_result"
    }
   ],
   "source": [
    "#print(soup.prettify())\n",
    "len(soup.find_all('a'))"
   ]
  },
  {
   "cell_type": "code",
   "execution_count": 89,
   "id": "35d97dab",
   "metadata": {},
   "outputs": [],
   "source": [
    "#for link in soup.find_all('a'):\n",
    "#    print(link.get('href'))\n",
    "    "
   ]
  },
  {
   "cell_type": "code",
   "execution_count": 90,
   "id": "88f4f688",
   "metadata": {},
   "outputs": [],
   "source": [
    "#for link in soup.find_all('a'):\n",
    "#    print(link.text)"
   ]
  },
  {
   "cell_type": "code",
   "execution_count": 143,
   "id": "713d66fb",
   "metadata": {},
   "outputs": [
    {
     "data": {
      "text/plain": [
       "<a class=\"cell-list__item-link color-font-hover-only\" data-semaphore=\"1\" href=\"https://ria.ru/20231026/armeniya-1905438229.html\" title=\"МИД указал Еревану на неприемлемость антироссийской кампании в Армении\"><span class=\"cell-list__item-title\">МИД указал Еревану на неприемлемость антироссийской кампании в Армении</span><div class=\"cell-list__item-info\"><div class=\"cell-info__date\">16:44</div></div></a>"
      ]
     },
     "execution_count": 143,
     "metadata": {},
     "output_type": "execute_result"
    }
   ],
   "source": [
    "soup.find_all('a')[40]"
   ]
  },
  {
   "cell_type": "code",
   "execution_count": 144,
   "id": "d9cbc40d",
   "metadata": {},
   "outputs": [],
   "source": [
    "needed_urls = []\n",
    "for link in soup.find_all('a'):\n",
    "    if link.get('href') != None:\n",
    "        if 'https://ria.ru/2023' in link.get('href'):\n",
    "            needed_urls.append(link.get('href'))"
   ]
  },
  {
   "cell_type": "code",
   "execution_count": 145,
   "id": "4e592d31",
   "metadata": {},
   "outputs": [
    {
     "name": "stdout",
     "output_type": "stream",
     "text": [
      "['https://ria.ru/20231026/vengriya-1905475766.html', 'https://ria.ru/20231026/khamas-1905438005.html', 'https://ria.ru/20231026/gosduma-1905416510.html', 'https://ria.ru/20231026/migratsiya-1905478254.html', 'https://ria.ru/20231026/zalozhniki-1905449568.html', 'https://ria.ru/20231026/armeniya-1905438229.html', 'https://ria.ru/20231026/gazprom-1905305397.html', 'https://ria.ru/20231026/zayavlenie-1905293862.html', 'https://ria.ru/20231026/ssha-1905339250.html', 'https://ria.ru/20231026/voenkomat-1905344903.html', 'https://ria.ru/20231026/pashinyan-1905343514.html', 'https://ria.ru/20231026/ssha-1905238195.html', 'https://ria.ru/20231026/diplomatiya-1905264193.html', 'https://ria.ru/20231026/erdogan-1905291063.html', 'https://ria.ru/20231026/oon-1905203166.html', 'https://ria.ru/20231026/otravlenie-1905425581.html', 'https://ria.ru/20231026/vliyanie-1905446263.html', 'https://ria.ru/20231026/grazhdanstvo-1905139678.html', 'https://ria.ru/20231026/pristup-1905323756.html', 'https://ria.ru/20231026/sova-1905390700.html', 'https://ria.ru/20231026/dolgoletie-1905180122.html', 'https://ria.ru/20231026/proisshestvie-1905338717.html', 'https://ria.ru/20231026/vsu-1905413323.html', 'https://ria.ru/20231026/mkht-1905108725.html', 'https://ria.ru/20231026/ukraina-1905455429.html', 'https://ria.ru/20231026/kontrnastuplenie-1905381973.html', 'https://ria.ru/20231026/lavrov-1905428601.html?rcmd_alg=slotter', 'https://ria.ru/20231026/prizemlenie-1905460322.html?rcmd_alg=slotter', 'https://ria.ru/20231026/peregovory-1905477304.html?rcmd_alg=slotter', 'https://ria.ru/20231026/pomosch-1905479950.html?rcmd_alg=slotter', 'https://ria.ru/20231026/monastyr-1905469417.html?rcmd_alg=slotter', 'https://ria.ru/20231026/syroed-1905400741.html', 'https://ria.ru/20231026/mig-31-1905399672.html', 'https://ria.ru/20231026/tailand-1904992576.html', 'https://ria.ru/20231026/strelba-1905312496.html', 'https://ria.ru/20231025/osen-1904806578.html', 'https://ria.ru/20231023/literatura-1903354434.html', 'https://ria.ru/20231025/ukraina-1904927970.html', 'https://ria.ru/20231025/voditeli-1904955030.html', 'https://ria.ru/20231025/grenada-1904998526.html', 'https://ria.ru/20231025/moda-1904727020.html', 'https://ria.ru/20231025/polsha-1905071410.html', 'https://ria.ru/20231025/perestroyka-1905030244.html', 'https://ria.ru/20231025/energetika-1904797348.html']\n"
     ]
    },
    {
     "data": {
      "text/plain": [
       "44"
      ]
     },
     "execution_count": 145,
     "metadata": {},
     "output_type": "execute_result"
    }
   ],
   "source": [
    "print(needed_urls)\n",
    "len(needed_urls)"
   ]
  },
  {
   "cell_type": "code",
   "execution_count": 146,
   "id": "1eae2c34",
   "metadata": {},
   "outputs": [
    {
     "data": {
      "text/plain": [
       "'https://ria.ru/20231026/vengriya-1905475766.html'"
      ]
     },
     "execution_count": 146,
     "metadata": {},
     "output_type": "execute_result"
    }
   ],
   "source": [
    "url0 = needed_urls[0]\n",
    "\n",
    "page0 = requests.get(url0)\n",
    "soup0 = BeautifulSoup(page0.text, 'html')\n",
    "url0"
   ]
  },
  {
   "cell_type": "code",
   "execution_count": 46,
   "id": "70ea7f12",
   "metadata": {},
   "outputs": [
    {
     "data": {
      "text/plain": [
       "[<span class=\"m-email\"></span>,\n",
       " <span class=\"header__menu-icon color-svg-hover-only\" data-auth=\"1\"><svg class=\"svg-icon\"><use xlink:href=\"#header_icon-user_filled\" xmlns:xlink=\"http://www.w3.org/1999/xlink\"></use></svg></span>,\n",
       " <span class=\"header__menu-icon color-svg-hover-only\" data-auth=\"0\"><svg class=\"svg-icon\"><use xlink:href=\"#header_icon-user\" xmlns:xlink=\"http://www.w3.org/1999/xlink\"></use></svg></span>,\n",
       " <span class=\"header__menu-share\"><div class=\"share m-header\" data-id=\"1905438005\" data-nosnippet=\"true\" data-title=\"Представители ХАМАС прибыли с визитом в Москву\" data-url=\"https://ria.ru/20231026/khamas-1905438005.html\"></div></span>,\n",
       " <span class=\"header__menu-icon color-svg-hover-only\"><svg class=\"svg-icon\"><use xlink:href=\"#header_icon-search\" xmlns:xlink=\"http://www.w3.org/1999/xlink\"></use></svg></span>,\n",
       " <span class=\"header__menu-icon color-svg-hover-only\"><svg class=\"svg-icon\"><use xlink:href=\"#header_icon-chat\" xmlns:xlink=\"http://www.w3.org/1999/xlink\"></use></svg></span>,\n",
       " <span> </span>,\n",
       " <span class=\"article__info-date-modified\">\n",
       "                                 (обновлено: 17:59 26.10.2023)\n",
       "                             </span>,\n",
       " <span class=\"photoview__copyright\"><a class=\"color-font-hover-only\" href=\"https://ria.ru/docs/about/copyright.html\">© РИА Новости / Наталья Селиверстова</a></span>,\n",
       " <span class=\"photoview__ext-link\"> | <a href=\"https://riamediabank.ru/images/item/8444094\" target=\"_blank\">Перейти в медиабанк</a></span>,\n",
       " <span class=\"photoview__desc-text\">Здание Министерства иностранных дел РФ в Москве</span>,\n",
       " <span class=\"article__aggr-txt\">Читать ria.ru в </span>,\n",
       " <span class=\"article__article-desc\"><span class=\"article__article-title\">ХАМАС заявило о гибели 50 израильских заложников при обстреле ЦАХАЛ</span><div class=\"article__article-info\" data-type=\"article\"><div class=\"article__block-date\">17:10</div><span class=\"share\" data-id=\"1905449568\" data-nosnippet=\"true\" data-title=\"ХАМАС заявило о гибели 50 израильских заложников при обстреле ЦАХАЛ\" data-url=\"https://ria.ru/20231026/zalozhniki-1905449568.html\"></span></div></span>,\n",
       " <span class=\"article__article-title\">ХАМАС заявило о гибели 50 израильских заложников при обстреле ЦАХАЛ</span>,\n",
       " <span class=\"share\" data-id=\"1905449568\" data-nosnippet=\"true\" data-title=\"ХАМАС заявило о гибели 50 израильских заложников при обстреле ЦАХАЛ\" data-url=\"https://ria.ru/20231026/zalozhniki-1905449568.html\"></span>,\n",
       " <span class=\"article__article-desc\"><span class=\"article__article-title\">СМИ: армия Израиля провела учения на мини-копии сектора Газа</span><div class=\"article__article-info\" data-type=\"article\"><div class=\"article__block-date\">14:31</div><span class=\"share\" data-id=\"1905394405\" data-nosnippet=\"true\" data-title=\"СМИ: армия Израиля провела учения на мини-копии сектора Газа\" data-url=\"https://ria.ru/20231026/izrail-1905394405.html\"></span></div></span>,\n",
       " <span class=\"article__article-title\">СМИ: армия Израиля провела учения на мини-копии сектора Газа</span>,\n",
       " <span class=\"share\" data-id=\"1905394405\" data-nosnippet=\"true\" data-title=\"СМИ: армия Израиля провела учения на мини-копии сектора Газа\" data-url=\"https://ria.ru/20231026/izrail-1905394405.html\"></span>,\n",
       " <span class=\"article__article-desc\"><span class=\"article__article-title\">\"Грядут темные времена\". Войну в Палестине остановить все сложнее</span><div class=\"article__article-info\" data-type=\"article\"><div class=\"article__block-date\">08:00</div><span class=\"share\" data-id=\"1905203166\" data-nosnippet=\"true\" data-title='\"Грядут темные времена\". Войну в Палестине остановить все сложнее' data-url=\"https://ria.ru/20231026/oon-1905203166.html\"></span></div></span>,\n",
       " <span class=\"article__article-title\">\"Грядут темные времена\". Войну в Палестине остановить все сложнее</span>,\n",
       " <span class=\"share\" data-id=\"1905203166\" data-nosnippet=\"true\" data-title='\"Грядут темные времена\". Войну в Палестине остановить все сложнее' data-url=\"https://ria.ru/20231026/oon-1905203166.html\"></span>,\n",
       " <span> </span>,\n",
       " <span> </span>,\n",
       " <span class=\"share m-article m-sticky\" data-id=\"1905438005\" data-nosnippet=\"true\" data-title=\"Представители ХАМАС прибыли с визитом в Москву\" data-url=\"https://ria.ru/20231026/khamas-1905438005.html\"></span>,\n",
       " <span> </span>,\n",
       " <span class=\"m-icon-normal\"><svg class=\"svg-icon\"><use xlink:href=\"#icon-chat_solid\" xmlns:xlink=\"http://www.w3.org/1999/xlink\"></use></svg></span>,\n",
       " <span class=\"online__sort-button m-asc m-active\" data-order=\"desc\" data-type-sort=\"\">Сначала новые</span>,\n",
       " <span class=\"online__sort-button m-desc\" data-order=\"asc\" data-type-sort=\"\">Сначала старые</span>,\n",
       " <span>Онлайн</span>,\n",
       " <span id=\"liveTitle\">Заголовок открываемого материала</span>,\n",
       " <span><svg class=\"svg-icon\"><use xlink:href=\"#icon-close_small\" xmlns:xlink=\"http://www.w3.org/1999/xlink\"></use></svg></span>,\n",
       " <span><svg class=\"svg-icon\"><use xlink:href=\"#icon-left_wide_small\" xmlns:xlink=\"http://www.w3.org/1999/xlink\"></use></svg></span>,\n",
       " <span id=\"chatBannedTime\">∞</span>,\n",
       " <span>Обсуждения</span>,\n",
       " <span id=\"chatTitle\">Заголовок открываемого материала</span>,\n",
       " <span id=\"chatNotificationOn\" title=\"Выключить уведомления\"><svg class=\"svg-icon\"><use xlink:href=\"#icon-notification\" xmlns:xlink=\"http://www.w3.org/1999/xlink\"></use></svg></span>,\n",
       " <span id=\"chatNotificationOff\" style=\"display: none;\" title=\"Включить уведомления\"><svg class=\"svg-icon\"><use xlink:href=\"#icon-notification_off\" xmlns:xlink=\"http://www.w3.org/1999/xlink\"></use></svg></span>,\n",
       " <span><svg class=\"svg-icon\"><use xlink:href=\"#icon-close_small\" xmlns:xlink=\"http://www.w3.org/1999/xlink\"></use></svg></span>,\n",
       " <span><svg class=\"svg-icon\"><use xlink:href=\"#icon-left_wide_small\" xmlns:xlink=\"http://www.w3.org/1999/xlink\"></use></svg></span>,\n",
       " <span></span>,\n",
       " <span class=\"lenta__header-text1\">Лента новостей</span>,\n",
       " <span class=\"lenta__header-text2\">Молния</span>,\n",
       " <span></span>,\n",
       " <span></span>,\n",
       " <span>\n",
       "                             Я принимаю условия соглашения и даю своё согласие на обработку персональных данных в соответствии\n",
       "                             с <a href=\"/docs/about/privacy_policy.html\" target=\"_blank\">Политикой конфиденциальности</a>\n",
       "                              Федерального Государственного Унитарного Предприятия «Международное информационное агентство «Россия сегодня»,\n",
       "                             расположенного по адресу: Россия, 119021, г. Москва, Зубовский бульвар, д. 4.\n",
       "                         </span>,\n",
       " <span>Я принимаю условия <a href=\"/docs/about/privacy_policy.html\" target=\"_blank\">соглашения</a></span>,\n",
       " <span>Да</span>,\n",
       " <span>Нет</span>,\n",
       " <span>Перетащите, <a>или выберите скриншот</a></span>,\n",
       " <span></span>,\n",
       " <span></span>]"
      ]
     },
     "execution_count": 46,
     "metadata": {},
     "output_type": "execute_result"
    }
   ],
   "source": [
    "#soup0.find_all('meta')\n",
    "#soup0.find_all('span')"
   ]
  },
  {
   "cell_type": "code",
   "execution_count": 147,
   "id": "6df68038",
   "metadata": {},
   "outputs": [
    {
     "data": {
      "text/plain": [
       "[<meta content=\"\" name=\"analytics:author\"/>]"
      ]
     },
     "execution_count": 147,
     "metadata": {},
     "output_type": "execute_result"
    }
   ],
   "source": [
    "soup0.find_all('meta', {'name' : 'analytics:author'}) "
   ]
  },
  {
   "cell_type": "code",
   "execution_count": 148,
   "id": "dfaeac2b",
   "metadata": {},
   "outputs": [
    {
     "data": {
      "text/plain": [
       "''"
      ]
     },
     "execution_count": 148,
     "metadata": {},
     "output_type": "execute_result"
    }
   ],
   "source": [
    "soup0.find_all('meta', {'name' : 'analytics:author'})[0].get('content')\n"
   ]
  },
  {
   "cell_type": "code",
   "execution_count": 149,
   "id": "bcfdaac9",
   "metadata": {},
   "outputs": [
    {
     "data": {
      "text/plain": [
       "'Венгрия предложила странам ЕС разработать новую стратегию по Украине'"
      ]
     },
     "execution_count": 149,
     "metadata": {},
     "output_type": "execute_result"
    }
   ],
   "source": [
    "soup0.find_all('meta', {'property' : 'og:title'})[0].get('content')\n"
   ]
  },
  {
   "cell_type": "code",
   "execution_count": 150,
   "id": "c4b0e64b",
   "metadata": {},
   "outputs": [
    {
     "name": "stdout",
     "output_type": "stream",
     "text": [
      "26.10.2023\n"
     ]
    }
   ],
   "source": [
    "date = soup0.find_all('span', {'class' : 'article__info-date-modified'})\n",
    "#print(date)\n",
    "pattern = r\"(\\d{2}.\\d{2}.\\d{4})\"\n",
    "match = re.search(pattern, str(date))\n",
    "\n",
    "\n",
    "\n",
    "#print(match)\n",
    "date = match.group(0)\n",
    "print(date)\n",
    "\n"
   ]
  },
  {
   "cell_type": "code",
   "execution_count": 151,
   "id": "4d4c2b03",
   "metadata": {},
   "outputs": [
    {
     "name": "stdout",
     "output_type": "stream",
     "text": [
      "Венгрия предложила странам ЕС разработать новую стратегию по Украине\n"
     ]
    }
   ],
   "source": [
    "title = soup0.find_all('meta', {'property' : 'og:title'})[0].get('content')\n",
    "print(title)\n"
   ]
  },
  {
   "cell_type": "code",
   "execution_count": 152,
   "id": "b760595e",
   "metadata": {},
   "outputs": [
    {
     "name": "stdout",
     "output_type": "stream",
     "text": [
      "\n",
      "\n",
      "\n",
      " ['Украина', 'Будапешт', 'В мире', 'Венгрия', 'Евросоюз']\n"
     ]
    }
   ],
   "source": [
    "tag = ''\n",
    "tags = []\n",
    "for i in range(len(soup0.find_all('a', {'class' : 'article__tags-item'}))):\n",
    "    html = soup0.find_all('a', {'class' : 'article__tags-item'})[i]\n",
    "    #print(html)\n",
    "    soup = BeautifulSoup(str(html), 'html.parser')\n",
    "    tag_text = soup.a.text\n",
    "    #print(needed)\n",
    "    tags.append(tag_text)\n",
    "    \n",
    "print('\\n\\n\\n',tags)\n",
    "\n",
    "\n",
    "#match = (re.search(r'>([^<]+)</a>', str(soup0.find_all('a', {'class' : 'article__tags-item'})[0])))    \n",
    "#match = re.search(r'>([^<]+)</a>', str(tags))\n",
    "\n",
    "#print(match.group(1))\n",
    "#len(soup0.find_all('a', {'class' : 'article__tags-item'}))"
   ]
  },
  {
   "cell_type": "code",
   "execution_count": 153,
   "id": "96a22d73",
   "metadata": {},
   "outputs": [
    {
     "name": "stdout",
     "output_type": "stream",
     "text": [
      "[<div class=\"article__text\"><strong>БУДАПЕШТ, 26 окт - РИА Новости.</strong> Венгрия предложила странам ЕС сначала разработать новую стратегию в конфликте на Украине, а потом выделять деньги Киеву, заявил советник премьер-министра Венгрии по политическим вопросам Балаж Орбан.</div>, <div class=\"article__text\">По его словам, стратегия Запада ранее заключалась в том, что украинцы воюют, а Запад оказывает им поддержку, что должно было, по мнению западных стран, привести к поражению <a data-auto=\"true\" href=\"/location_rossiyskaya-federatsiya/\" target=\"_blank\">России</a>.</div>, <div class=\"article__text\">Он сообщил, что Венгрия на саммите ЕС предложила на следующем заседании провести \"стратегические дискуссии о том, какова будет новая стратегия\".</div>, <div class=\"article__text\">По словам советника венгерского премьера, Венгрия выступает за то, чтобы эта новая стратегия строилась на мирном урегулировании конфликта.</div>, <div class=\"article__text\"><em><strong>* </strong>Деятельность Meta (соцсети <a href=\"https://ria.ru/tag_organization_Facebook/\" target=\"_blank\">Facebook</a> и Instagram) запрещена в России как экстремистская.</em></div>]\n"
     ]
    }
   ],
   "source": [
    "text = soup0.find_all('div', {'class' : 'article__text'})\n",
    "print(text)"
   ]
  },
  {
   "cell_type": "code",
   "execution_count": 154,
   "id": "6ed8a1c7",
   "metadata": {},
   "outputs": [
    {
     "name": "stdout",
     "output_type": "stream",
     "text": [
      "БУДАПЕШТ, 26 окт - РИА Новости. Венгрия предложила странам ЕС сначала разработать новую стратегию в конфликте на Украине, а потом выделять деньги Киеву, заявил советник премьер-министра Венгрии по политическим вопросам Балаж Орбан.\n",
      "По его словам, стратегия Запада ранее заключалась в том, что украинцы воюют, а Запад оказывает им поддержку, что должно было, по мнению западных стран, привести к поражению России.\n",
      "Он сообщил, что Венгрия на саммите ЕС предложила на следующем заседании провести \"стратегические дискуссии о том, какова будет новая стратегия\".\n",
      "По словам советника венгерского премьера, Венгрия выступает за то, чтобы эта новая стратегия строилась на мирном урегулировании конфликта.\n",
      "* Деятельность Meta (соцсети Facebook и Instagram) запрещена в России как экстремистская.\n"
     ]
    }
   ],
   "source": [
    "# Создаем объект BeautifulSoup\n",
    "text = BeautifulSoup(str(text), 'html.parser')\n",
    "# Извлекаем все элементы <div> с классом \"article__text\"\n",
    "div_elements = text.find_all('div', class_='article__text')\n",
    "# Извлекаем текст из каждого элемента и сохраняем его в список\n",
    "text_list = [element.get_text() for element in div_elements]\n",
    "# Объединяем текст в одну строку, разделяя переносами строки\n",
    "full_text = '\\n'.join(text_list)\n",
    "# Выводим извлеченный текст\n",
    "print(full_text)"
   ]
  },
  {
   "cell_type": "code",
   "execution_count": 103,
   "id": "73228c92",
   "metadata": {},
   "outputs": [],
   "source": [
    "from time import sleep\n",
    "from tqdm import tqdm\n",
    "import random"
   ]
  },
  {
   "cell_type": "code",
   "execution_count": 155,
   "id": "f8d195bc",
   "metadata": {},
   "outputs": [
    {
     "data": {
      "text/plain": [
       "2.1315638192404"
      ]
     },
     "execution_count": 155,
     "metadata": {},
     "output_type": "execute_result"
    }
   ],
   "source": [
    "random.random()*4"
   ]
  },
  {
   "cell_type": "code",
   "execution_count": 156,
   "id": "4e5bf32c",
   "metadata": {},
   "outputs": [],
   "source": [
    "def GetNews(url0):\n",
    "    \n",
    "    page0 = requests.get(url0)\n",
    "    soup0 = BeautifulSoup(page0.text, 'html')\n",
    "    \n",
    "    #Автор\n",
    "    author = soup0.find_all('meta', {'name' : 'analytics:author'})[0].get('content')\n",
    "    \n",
    "    #Дата\n",
    "    date = soup0.find_all('span', {'class' : 'article__info-date-modified'})\n",
    "    pattern = r\"(\\d{2}.\\d{2}.\\d{4})\"\n",
    "    match = re.search(pattern, str(date))\n",
    "    date = match.group(0)\n",
    "    \n",
    "    #Заголовок\n",
    "    title = soup0.find_all('meta', {'property' : 'og:title'})[0].get('content')\n",
    "    \n",
    "    #Теги\n",
    "    tag = ''\n",
    "    tags = []\n",
    "    for i in range(len(soup0.find_all('a', {'class' : 'article__tags-item'}))):\n",
    "        html = soup0.find_all('a', {'class' : 'article__tags-item'})[i]\n",
    "        soup = BeautifulSoup(str(html), 'html.parser')\n",
    "        tag_text = soup.a.text\n",
    "        tags.append(tag_text)\n",
    "        #print('\\n\\n\\n',tags)\n",
    "        \n",
    "    text = soup0.find_all('div', {'class' : 'article__text'})\n",
    "    \n",
    "    text = BeautifulSoup(str(text), 'html.parser')\n",
    "    # Извлекаем все элементы <div> с классом \"article__text\"\n",
    "    div_elements = text.find_all('div', class_='article__text')\n",
    "    # Извлекаем текст из каждого элемента и сохраняем его в список\n",
    "    text_list = [element.get_text() for element in div_elements]\n",
    "    # Объединяем текст в одну строку, разделяя переносами строки\n",
    "    full_text = '\\n'.join(text_list)\n",
    "    \n",
    "    return url0, date, author, title, tags, full_text"
   ]
  },
  {
   "cell_type": "code",
   "execution_count": 167,
   "id": "d1b05068",
   "metadata": {},
   "outputs": [
    {
     "name": "stderr",
     "output_type": "stream",
     "text": [
      " 59%|█████████████████████████▍                 | 26/44 [00:30<00:21,  1.17s/it]\n"
     ]
    },
    {
     "ename": "AttributeError",
     "evalue": "'NoneType' object has no attribute 'group'",
     "output_type": "error",
     "traceback": [
      "\u001b[0;31m---------------------------------------------------------------------------\u001b[0m",
      "\u001b[0;31mAttributeError\u001b[0m                            Traceback (most recent call last)",
      "\u001b[0;32m/var/folders/x0/jtqxhk496rq4mld6qh82pqt80000gn/T/ipykernel_67930/3271973177.py\u001b[0m in \u001b[0;36m<module>\u001b[0;34m\u001b[0m\n\u001b[1;32m      2\u001b[0m \u001b[0;34m\u001b[0m\u001b[0m\n\u001b[1;32m      3\u001b[0m \u001b[0;32mfor\u001b[0m \u001b[0mlink\u001b[0m \u001b[0;32min\u001b[0m \u001b[0mtqdm\u001b[0m\u001b[0;34m(\u001b[0m\u001b[0mneeded_urls\u001b[0m\u001b[0;34m)\u001b[0m\u001b[0;34m:\u001b[0m\u001b[0;34m\u001b[0m\u001b[0;34m\u001b[0m\u001b[0m\n\u001b[0;32m----> 4\u001b[0;31m     \u001b[0mres\u001b[0m \u001b[0;34m=\u001b[0m \u001b[0mGetNews\u001b[0m\u001b[0;34m(\u001b[0m\u001b[0mlink\u001b[0m\u001b[0;34m)\u001b[0m\u001b[0;34m\u001b[0m\u001b[0;34m\u001b[0m\u001b[0m\n\u001b[0m\u001b[1;32m      5\u001b[0m     \u001b[0mnews\u001b[0m\u001b[0;34m.\u001b[0m\u001b[0mappend\u001b[0m\u001b[0;34m(\u001b[0m\u001b[0mres\u001b[0m\u001b[0;34m)\u001b[0m\u001b[0;34m\u001b[0m\u001b[0;34m\u001b[0m\u001b[0m\n\u001b[1;32m      6\u001b[0m     \u001b[0msleep\u001b[0m\u001b[0;34m(\u001b[0m\u001b[0mrandom\u001b[0m\u001b[0;34m.\u001b[0m\u001b[0mrandom\u001b[0m\u001b[0;34m(\u001b[0m\u001b[0;34m)\u001b[0m\u001b[0;34m)\u001b[0m \u001b[0;31m# задержка в 3 секунды\u001b[0m\u001b[0;34m\u001b[0m\u001b[0;34m\u001b[0m\u001b[0m\n",
      "\u001b[0;32m/var/folders/x0/jtqxhk496rq4mld6qh82pqt80000gn/T/ipykernel_67930/3270820020.py\u001b[0m in \u001b[0;36mGetNews\u001b[0;34m(url0)\u001b[0m\n\u001b[1;32m     12\u001b[0m     \u001b[0mpattern\u001b[0m \u001b[0;34m=\u001b[0m \u001b[0;34mr\"(\\d{2}.\\d{2}.\\d{4})\"\u001b[0m\u001b[0;34m\u001b[0m\u001b[0;34m\u001b[0m\u001b[0m\n\u001b[1;32m     13\u001b[0m     \u001b[0mmatch\u001b[0m \u001b[0;34m=\u001b[0m \u001b[0mre\u001b[0m\u001b[0;34m.\u001b[0m\u001b[0msearch\u001b[0m\u001b[0;34m(\u001b[0m\u001b[0mpattern\u001b[0m\u001b[0;34m,\u001b[0m \u001b[0mstr\u001b[0m\u001b[0;34m(\u001b[0m\u001b[0mdate\u001b[0m\u001b[0;34m)\u001b[0m\u001b[0;34m)\u001b[0m\u001b[0;34m\u001b[0m\u001b[0;34m\u001b[0m\u001b[0m\n\u001b[0;32m---> 14\u001b[0;31m     \u001b[0mdate\u001b[0m \u001b[0;34m=\u001b[0m \u001b[0mmatch\u001b[0m\u001b[0;34m.\u001b[0m\u001b[0mgroup\u001b[0m\u001b[0;34m(\u001b[0m\u001b[0;36m0\u001b[0m\u001b[0;34m)\u001b[0m\u001b[0;34m\u001b[0m\u001b[0;34m\u001b[0m\u001b[0m\n\u001b[0m\u001b[1;32m     15\u001b[0m \u001b[0;34m\u001b[0m\u001b[0m\n\u001b[1;32m     16\u001b[0m     \u001b[0;31m#Заголовок\u001b[0m\u001b[0;34m\u001b[0m\u001b[0;34m\u001b[0m\u001b[0m\n",
      "\u001b[0;31mAttributeError\u001b[0m: 'NoneType' object has no attribute 'group'"
     ]
    }
   ],
   "source": [
    "news = [] # это будет список из кортежей, в которых будут храниться данные по каждой новости\n",
    "\n",
    "for link in tqdm(needed_urls):\n",
    "    res = GetNews(link)\n",
    "    news.append(res)\n",
    "    sleep(random.random()) # задержка в 3 секунды"
   ]
  },
  {
   "cell_type": "code",
   "execution_count": 168,
   "id": "00b3bd62",
   "metadata": {},
   "outputs": [
    {
     "data": {
      "text/plain": [
       "('https://ria.ru/20231026/gosduma-1905416510.html',\n",
       " '26.10.2023',\n",
       " '',\n",
       " 'Госдума приняла в I чтении проект федерального бюджета на 2024-2026 годы',\n",
       " ['Госдума РФ', 'Экономика', 'Россия', 'Антон Силуанов'],\n",
       " 'МОСКВА, 26 окт — РИА Новости. Депутаты приняли в первом чтении проект федерального бюджета на 2024 год и плановый период 2025-2026 годов, сообщили в Думе.\\nЗа проголосовали 320 парламентариев, против — 80, воздержавшихся не было. Второе чтение ожидается 15 ноября.\\nДоходы федерального бюджета запланированы на уровне:\\nРасходы:\\nТаким образом, в течение всего трехлетнего периода ожидается дефицит бюджета, который не превысит одного процента ВВП. В 2024 году он составит 0,9%, в 2025-м — 0,4%, в 2026-м — 0,8%.\\nПокрывать дефицит планируется через государственные внутренние заимствования, а в 2024 году также из средств Фонда национального благосостояния. Общий объем составит порядка четырех триллионов рублей.\\nПрогноз верхнего предела внутреннего госдолга:\\nПрогноз верхнего предела внешнего госдолга:\\nОбщий объем расходов на национальную оборону в 2024 году составит 10,8 триллиона рублей.\\nПрогноз по объему ВВП:\\nИнфляция, как ожидается, не превысит 4,5% в 2024 году и 4% в два последующих.')"
      ]
     },
     "execution_count": 168,
     "metadata": {},
     "output_type": "execute_result"
    }
   ],
   "source": [
    "news[2]"
   ]
  },
  {
   "cell_type": "code",
   "execution_count": 169,
   "id": "8e6fcc42",
   "metadata": {},
   "outputs": [],
   "source": [
    "page0 = requests.get(needed_urls[43])\n",
    "soup0 = BeautifulSoup(page0.text, 'lxml')"
   ]
  },
  {
   "cell_type": "code",
   "execution_count": 170,
   "id": "b87fb09c",
   "metadata": {},
   "outputs": [
    {
     "data": {
      "text/plain": [
       "('https://ria.ru/20231026/vengriya-1905475766.html',\n",
       " '26.10.2023',\n",
       " '',\n",
       " 'Венгрия предложила странам ЕС разработать новую стратегию по Украине',\n",
       " ['Украина', 'Будапешт', 'В мире', 'Венгрия', 'Евросоюз'],\n",
       " 'БУДАПЕШТ, 26 окт — РИА Новости. Странам Евросоюза нужно разработать новую стратегию в конфликте на Украине, прежде чем выделять деньги Киеву, заявил советник премьер-министра Венгрии по политическим вопросам Балаж Орбан.\\nПо его словам, концепция Запада ранее заключалась в том, чтобы ВСУ вели бои, а зарубежные страны оказывали им поддержку. По мнению представителей этих государств, такой план должен был привести к поражению России, отметил Орбан.\\nСоветник премьера также сообщил, что во время саммита ЕС Будапешт предложил на следующем заседании провести \"стратегические дискуссии о том, какова будет новая стратегия\". По словам Орбана, Венгрия выступает за то, чтобы эта новая концепция строилась на мирном урегулировании конфликта.\\n* Деятельность Meta (соцсети Facebook и Instagram) запрещена в России как экстремистская.')"
      ]
     },
     "execution_count": 170,
     "metadata": {},
     "output_type": "execute_result"
    }
   ],
   "source": [
    "news[0]"
   ]
  },
  {
   "cell_type": "code",
   "execution_count": 171,
   "id": "68088171",
   "metadata": {},
   "outputs": [],
   "source": [
    "import pandas as pd"
   ]
  },
  {
   "cell_type": "code",
   "execution_count": 172,
   "id": "383ca3b5",
   "metadata": {},
   "outputs": [],
   "source": [
    "df = pd.DataFrame(news)"
   ]
  },
  {
   "cell_type": "code",
   "execution_count": 173,
   "id": "a1dd16df",
   "metadata": {},
   "outputs": [],
   "source": [
    "df.columns = ['url', 'date', 'author', 'title', 'tags', 'full_text']"
   ]
  },
  {
   "cell_type": "code",
   "execution_count": 174,
   "id": "1c2ca27c",
   "metadata": {},
   "outputs": [
    {
     "data": {
      "text/html": [
       "<div>\n",
       "<style scoped>\n",
       "    .dataframe tbody tr th:only-of-type {\n",
       "        vertical-align: middle;\n",
       "    }\n",
       "\n",
       "    .dataframe tbody tr th {\n",
       "        vertical-align: top;\n",
       "    }\n",
       "\n",
       "    .dataframe thead th {\n",
       "        text-align: right;\n",
       "    }\n",
       "</style>\n",
       "<table border=\"1\" class=\"dataframe\">\n",
       "  <thead>\n",
       "    <tr style=\"text-align: right;\">\n",
       "      <th></th>\n",
       "      <th>url</th>\n",
       "      <th>date</th>\n",
       "      <th>author</th>\n",
       "      <th>title</th>\n",
       "      <th>tags</th>\n",
       "      <th>full_text</th>\n",
       "    </tr>\n",
       "  </thead>\n",
       "  <tbody>\n",
       "    <tr>\n",
       "      <th>0</th>\n",
       "      <td>https://ria.ru/20231026/vengriya-1905475766.html</td>\n",
       "      <td>26.10.2023</td>\n",
       "      <td></td>\n",
       "      <td>Венгрия предложила странам ЕС разработать нову...</td>\n",
       "      <td>[Украина, Будапешт, В мире, Венгрия, Евросоюз]</td>\n",
       "      <td>БУДАПЕШТ, 26 окт — РИА Новости. Странам Евросо...</td>\n",
       "    </tr>\n",
       "    <tr>\n",
       "      <th>1</th>\n",
       "      <td>https://ria.ru/20231026/khamas-1905438005.html</td>\n",
       "      <td>26.10.2023</td>\n",
       "      <td></td>\n",
       "      <td>Представители ХАМАС встретились с российскими ...</td>\n",
       "      <td>[В мире, Москва, Россия, Обострение палестино-...</td>\n",
       "      <td>МОСКВА, 26 окт — РИА Новости. Представители па...</td>\n",
       "    </tr>\n",
       "    <tr>\n",
       "      <th>2</th>\n",
       "      <td>https://ria.ru/20231026/gosduma-1905416510.html</td>\n",
       "      <td>26.10.2023</td>\n",
       "      <td></td>\n",
       "      <td>Госдума приняла в I чтении проект федерального...</td>\n",
       "      <td>[Госдума РФ, Экономика, Россия, Антон Силуанов]</td>\n",
       "      <td>МОСКВА, 26 окт — РИА Новости. Депутаты приняли...</td>\n",
       "    </tr>\n",
       "    <tr>\n",
       "      <th>3</th>\n",
       "      <td>https://ria.ru/20231026/migratsiya-1905478254....</td>\n",
       "      <td>26.10.2023</td>\n",
       "      <td></td>\n",
       "      <td>Правительство изменило правила миграционного у...</td>\n",
       "      <td>[Россия]</td>\n",
       "      <td>МОСКВА, 26 окт — РИА Новости. Правительство ут...</td>\n",
       "    </tr>\n",
       "    <tr>\n",
       "      <th>4</th>\n",
       "      <td>https://ria.ru/20231026/zalozhniki-1905449568....</td>\n",
       "      <td>26.10.2023</td>\n",
       "      <td></td>\n",
       "      <td>ХАМАС заявило о гибели 50 израильских заложник...</td>\n",
       "      <td>[В мире, Израиль, ХАМАС, Обострение палестино-...</td>\n",
       "      <td>МОСКВА, 26 окт — РИА Новости. Около 50 израиль...</td>\n",
       "    </tr>\n",
       "    <tr>\n",
       "      <th>5</th>\n",
       "      <td>https://ria.ru/20231026/armeniya-1905438229.html</td>\n",
       "      <td>26.10.2023</td>\n",
       "      <td></td>\n",
       "      <td>МИД указал Еревану на неприемлемость антиросси...</td>\n",
       "      <td>[Армения, Россия, В мире, Мария Захарова, Обос...</td>\n",
       "      <td>МОСКВА, 26 окт — РИА Новости. Временного повер...</td>\n",
       "    </tr>\n",
       "    <tr>\n",
       "      <th>6</th>\n",
       "      <td>https://ria.ru/20231026/gazprom-1905305397.html</td>\n",
       "      <td>26.10.2023</td>\n",
       "      <td></td>\n",
       "      <td>СМИ: польский суд окончательно отменил решение...</td>\n",
       "      <td>[Газпром, В мире, Польша, Северный поток — 2]</td>\n",
       "      <td>ВАРШАВА, 26 окт — РИА Новости. Польский суд во...</td>\n",
       "    </tr>\n",
       "    <tr>\n",
       "      <th>7</th>\n",
       "      <td>https://ria.ru/20231026/zayavlenie-1905293862....</td>\n",
       "      <td>26.10.2023</td>\n",
       "      <td></td>\n",
       "      <td>\"Выход один\": в Германии сделали неожиданное з...</td>\n",
       "      <td>[В мире, Россия, США, Китай, Марк Милли, Megau...</td>\n",
       "      <td>МОСКВА, 26 окт — РИА Новости. Правительство СШ...</td>\n",
       "    </tr>\n",
       "    <tr>\n",
       "      <th>8</th>\n",
       "      <td>https://ria.ru/20231026/ssha-1905339250.html</td>\n",
       "      <td>26.10.2023</td>\n",
       "      <td></td>\n",
       "      <td>В США представили проект, позволяющий помогать...</td>\n",
       "      <td>[В мире, США, Украина, Израиль]</td>\n",
       "      <td>МОСКВА, 26 окт — РИА Новости. Группа американс...</td>\n",
       "    </tr>\n",
       "    <tr>\n",
       "      <th>9</th>\n",
       "      <td>https://ria.ru/20231026/voenkomat-1905344903.html</td>\n",
       "      <td>26.10.2023</td>\n",
       "      <td></td>\n",
       "      <td>Уроженцам Таджикистана, сбежавшим из военкомат...</td>\n",
       "      <td>[Россия, Таджикистан, Москва, Следственный ком...</td>\n",
       "      <td>МОСКВА, 26 окт — РИА Новости. Двум уроженцам Т...</td>\n",
       "    </tr>\n",
       "    <tr>\n",
       "      <th>10</th>\n",
       "      <td>https://ria.ru/20231026/pashinyan-1905343514.html</td>\n",
       "      <td>26.10.2023</td>\n",
       "      <td></td>\n",
       "      <td>Песков прокомментировал интервью Пашиняна WSJ</td>\n",
       "      <td>[В мире, Азербайджан, Россия, Армения, Ильхам ...</td>\n",
       "      <td>МОСКВА, 26 окт — РИА Новости. Москва рассчитыв...</td>\n",
       "    </tr>\n",
       "    <tr>\n",
       "      <th>11</th>\n",
       "      <td>https://ria.ru/20231026/ssha-1905238195.html</td>\n",
       "      <td>26.10.2023</td>\n",
       "      <td>Виктория  Никифорова</td>\n",
       "      <td>В США рассматривают возможность предать НАТО</td>\n",
       "      <td>[США, НАТО, Украина, Аналитика]</td>\n",
       "      <td>С самого начала СВО мы слышим со стороны Запад...</td>\n",
       "    </tr>\n",
       "    <tr>\n",
       "      <th>12</th>\n",
       "      <td>https://ria.ru/20231026/diplomatiya-1905264193...</td>\n",
       "      <td>26.10.2023</td>\n",
       "      <td>Давид Нармания</td>\n",
       "      <td>Два дня одного генсека. Как умирает современна...</td>\n",
       "      <td>[В мире, Израиль, Тель-Авив, Палестина, Махатм...</td>\n",
       "      <td>Генеральный секретарь ООН Антониу Гутерреш в п...</td>\n",
       "    </tr>\n",
       "    <tr>\n",
       "      <th>13</th>\n",
       "      <td>https://ria.ru/20231026/erdogan-1905291063.html</td>\n",
       "      <td>26.10.2023</td>\n",
       "      <td>Петр Акопов</td>\n",
       "      <td>Защита Газы сделает Эрдогана настоящим халифом</td>\n",
       "      <td>[В мире, Израиль, Турция, Россия, Владимир Пут...</td>\n",
       "      <td>Кто может остановить Израиль? Все смотрят на Ш...</td>\n",
       "    </tr>\n",
       "    <tr>\n",
       "      <th>14</th>\n",
       "      <td>https://ria.ru/20231026/oon-1905203166.html</td>\n",
       "      <td>26.10.2023</td>\n",
       "      <td>Корр. Виктор Жданов</td>\n",
       "      <td>\"Грядут темные времена\". Войну в Палестине ост...</td>\n",
       "      <td>[Израиль, Палестина, Россия, Антониу Гутерриш,...</td>\n",
       "      <td>МОСКВА, 26 окт — РИА Новости, Виктор Жданов. И...</td>\n",
       "    </tr>\n",
       "    <tr>\n",
       "      <th>15</th>\n",
       "      <td>https://ria.ru/20231026/otravlenie-1905425581....</td>\n",
       "      <td>26.10.2023</td>\n",
       "      <td></td>\n",
       "      <td>Уроженца Мелитополя, отправившего летчикам отр...</td>\n",
       "      <td>[Происшествия, Мелитополь, Россия, Следственны...</td>\n",
       "      <td>МОСКВА, 26 окт — РИА Новости. Сотрудники право...</td>\n",
       "    </tr>\n",
       "    <tr>\n",
       "      <th>16</th>\n",
       "      <td>https://ria.ru/20231026/vliyanie-1905446263.html</td>\n",
       "      <td>26.10.2023</td>\n",
       "      <td></td>\n",
       "      <td>\"Его отработали\": в Киеве раскрыли, что случит...</td>\n",
       "      <td>[В мире, Украина, США, Киев, Владимир Зеленски...</td>\n",
       "      <td>МОСКВА, 26 окт — РИА Новости. Президент Украин...</td>\n",
       "    </tr>\n",
       "    <tr>\n",
       "      <th>17</th>\n",
       "      <td>https://ria.ru/20231026/grazhdanstvo-190513967...</td>\n",
       "      <td>26.10.2023</td>\n",
       "      <td>Корр. Дарья Юдкина</td>\n",
       "      <td>Много важных изменений: в России вступил в сил...</td>\n",
       "      <td>[Общество, Россия, Гражданство, Законы, РСФСР,...</td>\n",
       "      <td>МОСКВА, 26 окт — РИА Новости, Дарья Юдкина. Пр...</td>\n",
       "    </tr>\n",
       "    <tr>\n",
       "      <th>18</th>\n",
       "      <td>https://ria.ru/20231026/pristup-1905323756.html</td>\n",
       "      <td>26.10.2023</td>\n",
       "      <td></td>\n",
       "      <td>Кубанские приставы спасли женщину, у которой о...</td>\n",
       "      <td>[Хорошие новости, Происшествия, Здоровье - Общ...</td>\n",
       "      <td>КРАСНОДАР, 26 окт — РИА Новости. Судебные прис...</td>\n",
       "    </tr>\n",
       "    <tr>\n",
       "      <th>19</th>\n",
       "      <td>https://ria.ru/20231026/sova-1905390700.html</td>\n",
       "      <td>26.10.2023</td>\n",
       "      <td></td>\n",
       "      <td>В Уфе сотрудница полиции спасла сову, врезавшу...</td>\n",
       "      <td>[Хорошие новости, Уфа, сова]</td>\n",
       "      <td>УФА, 26 окт — РИА Новости. Сотрудница полиции ...</td>\n",
       "    </tr>\n",
       "    <tr>\n",
       "      <th>20</th>\n",
       "      <td>https://ria.ru/20231026/dolgoletie-1905180122....</td>\n",
       "      <td>26.10.2023</td>\n",
       "      <td>Корр. Татьяна Пичугина</td>\n",
       "      <td>Больше не наливать. Названы условия максимальн...</td>\n",
       "      <td>[Наука, биология, Здоровье, Медицина, долголет...</td>\n",
       "      <td>МОСКВА, 26 окт — РИА Новости, Татьяна Пичугина...</td>\n",
       "    </tr>\n",
       "    <tr>\n",
       "      <th>21</th>\n",
       "      <td>https://ria.ru/20231026/proisshestvie-19053387...</td>\n",
       "      <td>26.10.2023</td>\n",
       "      <td></td>\n",
       "      <td>В Петербурге задержали таксиста, который слома...</td>\n",
       "      <td>[Происшествия, Санкт-Петербург, Россия, Калини...</td>\n",
       "      <td>С.-ПЕТЕРБУРГ, 26 окт — РИА Новости. В Петербур...</td>\n",
       "    </tr>\n",
       "    <tr>\n",
       "      <th>22</th>\n",
       "      <td>https://ria.ru/20231026/vsu-1905413323.html</td>\n",
       "      <td>26.10.2023</td>\n",
       "      <td></td>\n",
       "      <td>\"Хуже не бывало\". В ВСУ раскрыли, что Россия у...</td>\n",
       "      <td>[Политика, Красный Лиман, Москва, Владимир Пут...</td>\n",
       "      <td>МОСКВА, 26 окт — РИА Новости. Украинские военн...</td>\n",
       "    </tr>\n",
       "    <tr>\n",
       "      <th>23</th>\n",
       "      <td>https://ria.ru/20231026/mkht-1905108725.html</td>\n",
       "      <td>26.10.2023</td>\n",
       "      <td>Корр. Павел Сурков</td>\n",
       "      <td>Гопкинс! И все подпрыгнули. Как шутили великие...</td>\n",
       "      <td>[Культура, Борис Ливанов, Табаков, Театр]</td>\n",
       "      <td>МОСКВА, 26 окт — РИА Новости, Павел Сурков. В ...</td>\n",
       "    </tr>\n",
       "    <tr>\n",
       "      <th>24</th>\n",
       "      <td>https://ria.ru/20231026/ukraina-1905455429.html</td>\n",
       "      <td>26.10.2023</td>\n",
       "      <td></td>\n",
       "      <td>\"Они не хотят\". Экс-разведчика поразили слова ...</td>\n",
       "      <td>[Политика, Россия, Украина, Скотт Риттер, Влад...</td>\n",
       "      <td>МОСКВА, 26 окт — РИА Новости. Американские ген...</td>\n",
       "    </tr>\n",
       "    <tr>\n",
       "      <th>25</th>\n",
       "      <td>https://ria.ru/20231026/kontrnastuplenie-19053...</td>\n",
       "      <td>26.10.2023</td>\n",
       "      <td></td>\n",
       "      <td>Французская газета признала провал контрнаступ...</td>\n",
       "      <td>[Специальная военная операция на Украине, Укра...</td>\n",
       "      <td>ПАРИЖ, 26 окт — РИА Новости. Долго готовившеес...</td>\n",
       "    </tr>\n",
       "  </tbody>\n",
       "</table>\n",
       "</div>"
      ],
      "text/plain": [
       "                                                  url        date  \\\n",
       "0    https://ria.ru/20231026/vengriya-1905475766.html  26.10.2023   \n",
       "1      https://ria.ru/20231026/khamas-1905438005.html  26.10.2023   \n",
       "2     https://ria.ru/20231026/gosduma-1905416510.html  26.10.2023   \n",
       "3   https://ria.ru/20231026/migratsiya-1905478254....  26.10.2023   \n",
       "4   https://ria.ru/20231026/zalozhniki-1905449568....  26.10.2023   \n",
       "5    https://ria.ru/20231026/armeniya-1905438229.html  26.10.2023   \n",
       "6     https://ria.ru/20231026/gazprom-1905305397.html  26.10.2023   \n",
       "7   https://ria.ru/20231026/zayavlenie-1905293862....  26.10.2023   \n",
       "8        https://ria.ru/20231026/ssha-1905339250.html  26.10.2023   \n",
       "9   https://ria.ru/20231026/voenkomat-1905344903.html  26.10.2023   \n",
       "10  https://ria.ru/20231026/pashinyan-1905343514.html  26.10.2023   \n",
       "11       https://ria.ru/20231026/ssha-1905238195.html  26.10.2023   \n",
       "12  https://ria.ru/20231026/diplomatiya-1905264193...  26.10.2023   \n",
       "13    https://ria.ru/20231026/erdogan-1905291063.html  26.10.2023   \n",
       "14        https://ria.ru/20231026/oon-1905203166.html  26.10.2023   \n",
       "15  https://ria.ru/20231026/otravlenie-1905425581....  26.10.2023   \n",
       "16   https://ria.ru/20231026/vliyanie-1905446263.html  26.10.2023   \n",
       "17  https://ria.ru/20231026/grazhdanstvo-190513967...  26.10.2023   \n",
       "18    https://ria.ru/20231026/pristup-1905323756.html  26.10.2023   \n",
       "19       https://ria.ru/20231026/sova-1905390700.html  26.10.2023   \n",
       "20  https://ria.ru/20231026/dolgoletie-1905180122....  26.10.2023   \n",
       "21  https://ria.ru/20231026/proisshestvie-19053387...  26.10.2023   \n",
       "22        https://ria.ru/20231026/vsu-1905413323.html  26.10.2023   \n",
       "23       https://ria.ru/20231026/mkht-1905108725.html  26.10.2023   \n",
       "24    https://ria.ru/20231026/ukraina-1905455429.html  26.10.2023   \n",
       "25  https://ria.ru/20231026/kontrnastuplenie-19053...  26.10.2023   \n",
       "\n",
       "                    author                                              title  \\\n",
       "0                           Венгрия предложила странам ЕС разработать нову...   \n",
       "1                           Представители ХАМАС встретились с российскими ...   \n",
       "2                           Госдума приняла в I чтении проект федерального...   \n",
       "3                           Правительство изменило правила миграционного у...   \n",
       "4                           ХАМАС заявило о гибели 50 израильских заложник...   \n",
       "5                           МИД указал Еревану на неприемлемость антиросси...   \n",
       "6                           СМИ: польский суд окончательно отменил решение...   \n",
       "7                           \"Выход один\": в Германии сделали неожиданное з...   \n",
       "8                           В США представили проект, позволяющий помогать...   \n",
       "9                           Уроженцам Таджикистана, сбежавшим из военкомат...   \n",
       "10                              Песков прокомментировал интервью Пашиняна WSJ   \n",
       "11    Виктория  Никифорова       В США рассматривают возможность предать НАТО   \n",
       "12          Давид Нармания  Два дня одного генсека. Как умирает современна...   \n",
       "13             Петр Акопов     Защита Газы сделает Эрдогана настоящим халифом   \n",
       "14     Корр. Виктор Жданов  \"Грядут темные времена\". Войну в Палестине ост...   \n",
       "15                          Уроженца Мелитополя, отправившего летчикам отр...   \n",
       "16                          \"Его отработали\": в Киеве раскрыли, что случит...   \n",
       "17      Корр. Дарья Юдкина  Много важных изменений: в России вступил в сил...   \n",
       "18                          Кубанские приставы спасли женщину, у которой о...   \n",
       "19                          В Уфе сотрудница полиции спасла сову, врезавшу...   \n",
       "20  Корр. Татьяна Пичугина  Больше не наливать. Названы условия максимальн...   \n",
       "21                          В Петербурге задержали таксиста, который слома...   \n",
       "22                          \"Хуже не бывало\". В ВСУ раскрыли, что Россия у...   \n",
       "23      Корр. Павел Сурков  Гопкинс! И все подпрыгнули. Как шутили великие...   \n",
       "24                          \"Они не хотят\". Экс-разведчика поразили слова ...   \n",
       "25                          Французская газета признала провал контрнаступ...   \n",
       "\n",
       "                                                 tags  \\\n",
       "0      [Украина, Будапешт, В мире, Венгрия, Евросоюз]   \n",
       "1   [В мире, Москва, Россия, Обострение палестино-...   \n",
       "2     [Госдума РФ, Экономика, Россия, Антон Силуанов]   \n",
       "3                                            [Россия]   \n",
       "4   [В мире, Израиль, ХАМАС, Обострение палестино-...   \n",
       "5   [Армения, Россия, В мире, Мария Захарова, Обос...   \n",
       "6       [Газпром, В мире, Польша, Северный поток — 2]   \n",
       "7   [В мире, Россия, США, Китай, Марк Милли, Megau...   \n",
       "8                     [В мире, США, Украина, Израиль]   \n",
       "9   [Россия, Таджикистан, Москва, Следственный ком...   \n",
       "10  [В мире, Азербайджан, Россия, Армения, Ильхам ...   \n",
       "11                    [США, НАТО, Украина, Аналитика]   \n",
       "12  [В мире, Израиль, Тель-Авив, Палестина, Махатм...   \n",
       "13  [В мире, Израиль, Турция, Россия, Владимир Пут...   \n",
       "14  [Израиль, Палестина, Россия, Антониу Гутерриш,...   \n",
       "15  [Происшествия, Мелитополь, Россия, Следственны...   \n",
       "16  [В мире, Украина, США, Киев, Владимир Зеленски...   \n",
       "17  [Общество, Россия, Гражданство, Законы, РСФСР,...   \n",
       "18  [Хорошие новости, Происшествия, Здоровье - Общ...   \n",
       "19                       [Хорошие новости, Уфа, сова]   \n",
       "20  [Наука, биология, Здоровье, Медицина, долголет...   \n",
       "21  [Происшествия, Санкт-Петербург, Россия, Калини...   \n",
       "22  [Политика, Красный Лиман, Москва, Владимир Пут...   \n",
       "23          [Культура, Борис Ливанов, Табаков, Театр]   \n",
       "24  [Политика, Россия, Украина, Скотт Риттер, Влад...   \n",
       "25  [Специальная военная операция на Украине, Укра...   \n",
       "\n",
       "                                            full_text  \n",
       "0   БУДАПЕШТ, 26 окт — РИА Новости. Странам Евросо...  \n",
       "1   МОСКВА, 26 окт — РИА Новости. Представители па...  \n",
       "2   МОСКВА, 26 окт — РИА Новости. Депутаты приняли...  \n",
       "3   МОСКВА, 26 окт — РИА Новости. Правительство ут...  \n",
       "4   МОСКВА, 26 окт — РИА Новости. Около 50 израиль...  \n",
       "5   МОСКВА, 26 окт — РИА Новости. Временного повер...  \n",
       "6   ВАРШАВА, 26 окт — РИА Новости. Польский суд во...  \n",
       "7   МОСКВА, 26 окт — РИА Новости. Правительство СШ...  \n",
       "8   МОСКВА, 26 окт — РИА Новости. Группа американс...  \n",
       "9   МОСКВА, 26 окт — РИА Новости. Двум уроженцам Т...  \n",
       "10  МОСКВА, 26 окт — РИА Новости. Москва рассчитыв...  \n",
       "11  С самого начала СВО мы слышим со стороны Запад...  \n",
       "12  Генеральный секретарь ООН Антониу Гутерреш в п...  \n",
       "13  Кто может остановить Израиль? Все смотрят на Ш...  \n",
       "14  МОСКВА, 26 окт — РИА Новости, Виктор Жданов. И...  \n",
       "15  МОСКВА, 26 окт — РИА Новости. Сотрудники право...  \n",
       "16  МОСКВА, 26 окт — РИА Новости. Президент Украин...  \n",
       "17  МОСКВА, 26 окт — РИА Новости, Дарья Юдкина. Пр...  \n",
       "18  КРАСНОДАР, 26 окт — РИА Новости. Судебные прис...  \n",
       "19  УФА, 26 окт — РИА Новости. Сотрудница полиции ...  \n",
       "20  МОСКВА, 26 окт — РИА Новости, Татьяна Пичугина...  \n",
       "21  С.-ПЕТЕРБУРГ, 26 окт — РИА Новости. В Петербур...  \n",
       "22  МОСКВА, 26 окт — РИА Новости. Украинские военн...  \n",
       "23  МОСКВА, 26 окт — РИА Новости, Павел Сурков. В ...  \n",
       "24  МОСКВА, 26 окт — РИА Новости. Американские ген...  \n",
       "25  ПАРИЖ, 26 окт — РИА Новости. Долго готовившеес...  "
      ]
     },
     "execution_count": 174,
     "metadata": {},
     "output_type": "execute_result"
    }
   ],
   "source": [
    "df.head(30)"
   ]
  },
  {
   "cell_type": "code",
   "execution_count": 165,
   "id": "37ad0b16",
   "metadata": {},
   "outputs": [],
   "source": [
    "df.to_csv('news_2610.csv', \n",
    "          index = False, \n",
    "          sep = ';', \n",
    "          encoding = 'utf-8-sig')"
   ]
  },
  {
   "cell_type": "code",
   "execution_count": null,
   "id": "1abe9261",
   "metadata": {},
   "outputs": [],
   "source": []
  }
 ],
 "metadata": {
  "kernelspec": {
   "display_name": "Python 3 (ipykernel)",
   "language": "python",
   "name": "python3"
  },
  "language_info": {
   "codemirror_mode": {
    "name": "ipython",
    "version": 3
   },
   "file_extension": ".py",
   "mimetype": "text/x-python",
   "name": "python",
   "nbconvert_exporter": "python",
   "pygments_lexer": "ipython3",
   "version": "3.9.13"
  }
 },
 "nbformat": 4,
 "nbformat_minor": 5
}
